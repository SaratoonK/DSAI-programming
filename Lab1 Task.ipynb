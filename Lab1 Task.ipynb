{
 "cells": [
  {
   "cell_type": "code",
   "execution_count": 31,
   "id": "318a374f",
   "metadata": {},
   "outputs": [
    {
     "name": "stdout",
     "output_type": "stream",
     "text": [
      "25.643016532914736\n"
     ]
    }
   ],
   "source": [
    "import numpy as np\n",
    "import matplotlib.pyplot as plt\n",
    "from sklearn.datasets import load_boston\n",
    "from sklearn.preprocessing import StandardScaler\n",
    "from sklearn.model_selection import train_test_split\n",
    "\n",
    "boston = load_boston()\n",
    "X = boston.data\n",
    "y = boston.target\n",
    "m = X.shape[0]  \n",
    "n = X.shape[1]\n",
    "\n",
    "scaler = StandardScaler()\n",
    "X = scaler.fit_transform(X)\n",
    "\n",
    "X_train, X_test, y_train, y_test = train_test_split(X, y, test_size = 0.3)\n",
    "intercept = np.ones((X_train.shape[0], 1))\n",
    "\n",
    "X_train = np.concatenate((intercept, X_train), axis=1)\n",
    "\n",
    "intercept = np.ones((X_test.shape[0], 1))\n",
    "\n",
    "X_test = np.concatenate((intercept, X_test), axis=1)\n",
    "theta = np.zeros(X_train.shape[1])\n",
    "\n",
    "alpha = 0.0001\n",
    "max_iter = 1000\n",
    "loss_old = 10000\n",
    "tol = 0.0001\n",
    "iter_stop = 0\n",
    "sto_list = []\n",
    "method = \"stochastic\"\n",
    "\n",
    "def h_theta(X, theta):\n",
    "    return X @ theta\n",
    "\n",
    "def mse(yhat, y):\n",
    "    return ((yhat - y)**2).sum() / yhat.shape[0]\n",
    "\n",
    "def gradient(X, error):\n",
    "    return X.T @ error\n",
    "\n",
    "for i in range(max_iter):\n",
    "    \n",
    "    if method != \"batch\":\n",
    "        i = np.random.randint(X.shape[0])\n",
    "        while i in sto_list:\n",
    "            i = np.random.randint(X.shape[0])\n",
    "        sto_list.append(i)\n",
    "        if len(sto_list) == m:\n",
    "            sto_list = []\n",
    "    \n",
    "    yhat = h_theta(X_train, theta)\n",
    "\n",
    "    error = yhat - y_train\n",
    "    \n",
    "    loss_new = mse(yhat, y_train)\n",
    "    if abs(loss_new-loss_old) < tol:\n",
    "        break\n",
    " \n",
    "    grad = gradient(X_train, error)\n",
    "\n",
    "    theta = theta - alpha * grad\n",
    "    \n",
    "    \n",
    "yhat = h_theta(X_test, theta)\n",
    "\n",
    "mse = mse(yhat, y_test)\n",
    "print(mse)\n"
   ]
  },
  {
   "cell_type": "code",
   "execution_count": null,
   "id": "2a1e9baa",
   "metadata": {},
   "outputs": [],
   "source": []
  },
  {
   "cell_type": "code",
   "execution_count": null,
   "id": "2e666644",
   "metadata": {},
   "outputs": [],
   "source": []
  }
 ],
 "metadata": {
  "kernelspec": {
   "display_name": "pythonDSAI",
   "language": "python",
   "name": "pythondsai"
  },
  "language_info": {
   "codemirror_mode": {
    "name": "ipython",
    "version": 3
   },
   "file_extension": ".py",
   "mimetype": "text/x-python",
   "name": "python",
   "nbconvert_exporter": "python",
   "pygments_lexer": "ipython3",
   "version": "3.8.3"
  }
 },
 "nbformat": 4,
 "nbformat_minor": 5
}
