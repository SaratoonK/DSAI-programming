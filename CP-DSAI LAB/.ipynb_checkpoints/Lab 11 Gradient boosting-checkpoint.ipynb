{
 "cells": [
  {
   "cell_type": "code",
   "execution_count": 1,
   "id": "34d246e4",
   "metadata": {},
   "outputs": [],
   "source": [
    "from scipy.special import expit\n",
    "from sklearn.tree import DecisionTreeRegressor\n",
    "from sklearn.tree import DecisionTreeClassifier\n",
    "from sklearn.dummy import DummyRegressor\n",
    "from sklearn.model_selection import train_test_split\n",
    "import numpy as np"
   ]
  },
  {
   "cell_type": "code",
   "execution_count": 2,
   "id": "4edbc565",
   "metadata": {},
   "outputs": [],
   "source": [
    "class GradientBoosting:\n",
    "    def __init__(self,S,alpha,max_depth,min_samples_split,regression=True):\n",
    "        self.S = S\n",
    "        self.alpha = alpha\n",
    "        self.max_depth = max_depth\n",
    "        self.min_samples_split = min_samples_split\n",
    "        self.regression = regression\n",
    "        \n",
    "        tree_params = {'max_depth': self.max_depth,\n",
    "                      'min_samples_split': self.min_samples_split}\n",
    "        self.models = [DecisionTreeRegressor(**tree_params) for _ in range(S)]\n",
    "        \n",
    "    def grad(self,y, h):\n",
    "        return y - h\n",
    "\n",
    "    def fit(self,X, y):\n",
    "\n",
    "        self.models_trained = []\n",
    "        #using DummyRegressor is a good technique for starting model\n",
    "        first_model = DummyRegressor(strategy='mean')\n",
    "        first_model.fit(X, y)\n",
    "        self.models_trained.append(first_model)\n",
    "\n",
    "        #fit the estimators\n",
    "        for i, model in enumerate(self.models):\n",
    "            #predict using all the weak learners we trained up to\n",
    "            #this point\n",
    "            y_pred = self.predict(X,argmax=False)\n",
    "#             print(y_pred)\n",
    "\n",
    "            #errors will be the total errors maded by models_trained\n",
    "            residual = self.grad(y, y_pred)\n",
    "#             print(residual)\n",
    "\n",
    "            #fit the next model with residual\n",
    "            model.fit(X, residual)\n",
    "\n",
    "            self.models_trained.append(model)\n",
    "\n",
    "\n",
    "    def predict(self,X,argmax=True):\n",
    "        models = self.models_trained\n",
    "        learning_rate = 0.1  ##hard code for now\n",
    "        f0 = models[0].predict(X)  #first use the dummy model\n",
    "        boosting = sum(learning_rate * model.predict(X) for model in models[1:])\n",
    "        yhat = f0 + boosting\n",
    "        if not self.regression:\n",
    "            yhat = np.exp(yhat) / np.sum(np.exp(yhat), axis=1, keepdims=True)\n",
    "            if argmax:\n",
    "#                 print(yhat)\n",
    "                yhat = np.argmax(yhat, axis=1)\n",
    "#                 print(yhat)\n",
    "        return yhat\n"
   ]
  },
  {
   "cell_type": "code",
   "execution_count": 3,
   "id": "c39a5d1e",
   "metadata": {},
   "outputs": [
    {
     "name": "stdout",
     "output_type": "stream",
     "text": [
      "MSE for max_depth2:  10.843779891542544\n"
     ]
    }
   ],
   "source": [
    "from sklearn.datasets import load_boston\n",
    "from sklearn.metrics import mean_squared_error\n",
    "X, y = load_boston(return_X_y=True)\n",
    "X_train, X_test, y_train, y_test = train_test_split(X, y, \n",
    "                        test_size=0.3, random_state=42)\n",
    "model = GradientBoosting(S=200, alpha=0.1, max_depth = 2, \n",
    "                 min_samples_split = 2)\n",
    "model.fit(X_train, y_train)\n",
    "yhat = model.predict(X_test)\n",
    "\n",
    "#print metrics\n",
    "print(\"MSE for max_depth2: \", mean_squared_error(y_test, yhat))\n"
   ]
  },
  {
   "cell_type": "code",
   "execution_count": 4,
   "id": "db5de3bf",
   "metadata": {},
   "outputs": [
    {
     "name": "stdout",
     "output_type": "stream",
     "text": [
      "MSE for max_depth 3:  7.776238096139652\n"
     ]
    }
   ],
   "source": [
    "X, y = load_boston(return_X_y=True)\n",
    "X_train, X_test, y_train, y_test = train_test_split(X, y, \n",
    "                        test_size=0.3, random_state=42)\n",
    "model = GradientBoosting(S=200, alpha=0.1, max_depth = 3, \n",
    "                 min_samples_split = 2)\n",
    "model.fit(X_train, y_train)\n",
    "yhat = model.predict(X_test)\n",
    "\n",
    "#print metrics\n",
    "print(\"MSE for max_depth 3: \", mean_squared_error(y_test, yhat))"
   ]
  },
  {
   "cell_type": "code",
   "execution_count": 71,
   "id": "fcd9807c",
   "metadata": {},
   "outputs": [
    {
     "name": "stdout",
     "output_type": "stream",
     "text": [
      "MSE for max_depth 4:  8.311887519118308\n"
     ]
    }
   ],
   "source": [
    "X, y = load_boston(return_X_y=True)\n",
    "X_train, X_test, y_train, y_test = train_test_split(X, y, \n",
    "                        test_size=0.3, random_state=42)\n",
    "model = GradientBoosting(S=200, alpha=0.1, max_depth = 4, \n",
    "                 min_samples_split = 2)\n",
    "model.fit(X_train, y_train)\n",
    "yhat = model.predict(X_test)\n",
    "\n",
    "#print metrics\n",
    "print(\"MSE for max_depth 4: \", mean_squared_error(y_test, yhat))"
   ]
  },
  {
   "cell_type": "code",
   "execution_count": 63,
   "id": "5c6003f9",
   "metadata": {},
   "outputs": [
    {
     "name": "stdout",
     "output_type": "stream",
     "text": [
      "Our accuracy:  0.9649122807017544\n"
     ]
    }
   ],
   "source": [
    "from sklearn.datasets import load_breast_cancer\n",
    "from sklearn.metrics import accuracy_score\n",
    "from sklearn.ensemble import GradientBoostingClassifier\n",
    "\n",
    "X, y = load_breast_cancer(return_X_y=True)\n",
    "\n",
    "X_train, X_test, y_train, y_test = \\\n",
    "        train_test_split(X, y, test_size=0.3, random_state=42)\n",
    "y_train_encoded = np.zeros((y_train.shape[0], len(set(y))))\n",
    "# print(y_train)\n",
    "for each_class in range(len(set(y))):\n",
    "    cond = y_train==each_class\n",
    "    y_train_encoded[np.where(cond), each_class] = 1\n",
    "# print(y_train_encoded)\n",
    "\n",
    "model = GradientBoosting(S=200, alpha=0.1, max_depth = 3, \n",
    "                 min_samples_split = 2,\n",
    "                 regression=False)\n",
    "# print(X_train.shape)\n",
    "model.fit(X_train, y_train_encoded)\n",
    "yhat = model.predict(X_test)\n",
    "\n",
    "# #print metrics\n",
    "print(\"Our accuracy: \", accuracy_score(y_test, yhat))"
   ]
  },
  {
   "cell_type": "code",
   "execution_count": 66,
   "id": "ebf0c19f",
   "metadata": {},
   "outputs": [
    {
     "name": "stdout",
     "output_type": "stream",
     "text": [
      "Our accuracy:  0.9314814814814815\n"
     ]
    }
   ],
   "source": [
    "from sklearn.datasets import load_digits\n",
    "from sklearn.metrics import accuracy_score\n",
    "from sklearn.ensemble import GradientBoostingClassifier\n",
    "\n",
    "X, y = load_digits(return_X_y=True)\n",
    "\n",
    "X_train, X_test, y_train, y_test = \\\n",
    "        train_test_split(X, y, test_size=0.3, random_state=42)\n",
    "y_train_encoded = np.zeros((y_train.shape[0], len(set(y))))\n",
    "# print(y_train)\n",
    "for each_class in range(len(set(y))):\n",
    "    cond = y_train==each_class\n",
    "    y_train_encoded[np.where(cond), each_class] = 1\n",
    "# print(y_train_encoded)\n",
    "\n",
    "model = GradientBoosting(S=200, alpha=0.1, max_depth = 3, \n",
    "                 min_samples_split = 2,\n",
    "                 regression=False)\n",
    "# print(X_train.shape)\n",
    "model.fit(X_train, y_train_encoded)\n",
    "yhat = model.predict(X_test)\n",
    "\n",
    "# #print metrics\n",
    "print(\"Our accuracy: \", accuracy_score(y_test, yhat))"
   ]
  }
 ],
 "metadata": {
  "kernelspec": {
   "display_name": "pythonDSAI",
   "language": "python",
   "name": "pythondsai"
  },
  "language_info": {
   "codemirror_mode": {
    "name": "ipython",
    "version": 3
   },
   "file_extension": ".py",
   "mimetype": "text/x-python",
   "name": "python",
   "nbconvert_exporter": "python",
   "pygments_lexer": "ipython3",
   "version": "3.8.3"
  }
 },
 "nbformat": 4,
 "nbformat_minor": 5
}
