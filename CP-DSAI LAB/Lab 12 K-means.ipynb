{
 "cells": [
  {
   "cell_type": "code",
   "execution_count": 1,
   "id": "9258f2e8",
   "metadata": {},
   "outputs": [],
   "source": [
    "import numpy as np\n",
    "import matplotlib.pyplot as plt"
   ]
  },
  {
   "cell_type": "code",
   "execution_count": 75,
   "id": "a65593ee",
   "metadata": {},
   "outputs": [],
   "source": [
    "from sklearn.datasets import make_blobs\n",
    "from sklearn.metrics import pairwise_distances_argmin\n",
    "from time import time\n",
    "\n",
    "X, y_true = make_blobs(n_samples=1500, centers=4,\n",
    "                       cluster_std=0.60, random_state=0)\n",
    "class K_means:\n",
    "    def __init__(self,k,batch_size=100,max_iter=100):\n",
    "        self.k = k\n",
    "        self.batch_size = batch_size\n",
    "        self.max_iter = max_iter\n",
    "        \n",
    "    def fit(self,X):\n",
    "        m, n = X.shape\n",
    "\n",
    "        #1. randomly choose n clusters from X\n",
    "        #you can also randomly generate any two points\n",
    "        rng = np.random.RandomState(60)\n",
    "        i = rng.permutation(m)[:self.k]\n",
    "        self.centers = X[i]\n",
    "#         print(centers)\n",
    "\n",
    "        for a in range(self.max_iter):\n",
    "            #2. assign lables based on closest center\n",
    "            #return the index of centers having smallest\n",
    "            #distance with X\n",
    "            idx = np.random.randint(m)\n",
    "            X_mini = X[idx:idx+self.batch_size]\n",
    "            labels = pairwise_distances_argmin(X_mini, self.centers)\n",
    "\n",
    "            #3. find new centers\n",
    "            new_centers = []\n",
    "            for i in range(self.k):\n",
    "                new_centers.append(X_mini[labels == i].mean(axis=0))\n",
    "\n",
    "            #convert list to np.array; you can actually combine #3\n",
    "            #with np.array in one sentence \n",
    "            new_centers = np.array(new_centers)\n",
    "\n",
    "            #4 stopping criteria - if centers do not \n",
    "            #change anymore, we stop!\n",
    "            if(np.allclose(self.centers, new_centers,rtol = 0.3)):\n",
    "                break\n",
    "            else:\n",
    "                self.centers = new_centers\n",
    "#         print(\"hello\")\n",
    "        print(f\"Done in {a} iterations\")\n",
    "        total_with_variation_score = 0\n",
    "        labels = pairwise_distances_argmin(X, self.centers) #<---Note I use X here.  Why?\n",
    "        for i in range(self.k):\n",
    "            cluster_mean = X[labels==i].mean(axis=0)\n",
    "            total_with_variation_score += ((X[labels==i] - cluster_mean)** 2).sum()\n",
    "            \n",
    "        print(\"Total with variation score: \", total_with_variation_score)\n",
    "        \n",
    "    def predict(self,X):\n",
    "        return pairwise_distances_argmin(X, self.centers)"
   ]
  },
  {
   "cell_type": "code",
   "execution_count": 76,
   "id": "e1ee083e",
   "metadata": {},
   "outputs": [
    {
     "name": "stdout",
     "output_type": "stream",
     "text": [
      "k = 2\n",
      "Done in 1 iterations\n",
      "Total with variation score:  7053.830163260556\n",
      "Fit and predict time: 0.0019958019256591797\n",
      "k = 3\n",
      "Done in 7 iterations\n",
      "Total with variation score:  2493.8460360964195\n",
      "Fit and predict time: 0.0019953250885009766\n",
      "k = 4\n",
      "Done in 4 iterations\n",
      "Total with variation score:  1023.2344522101175\n",
      "Fit and predict time: 0.002995014190673828\n",
      "k = 5\n",
      "Done in 3 iterations\n",
      "Total with variation score:  936.2828774997785\n",
      "Fit and predict time: 0.0\n",
      "k = 6\n",
      "Done in 2 iterations\n",
      "Total with variation score:  876.2917388831977\n",
      "Fit and predict time: 0.0013055801391601562\n"
     ]
    }
   ],
   "source": [
    "for k in range(2,7):\n",
    "    print(\"k =\",k)\n",
    "    model = K_means(k)\n",
    "    model.fit(X)\n",
    "    start = time()\n",
    "    preds = model.predict(X)\n",
    "    print(f\"Fit and predict time: {time() - start}\")"
   ]
  }
 ],
 "metadata": {
  "kernelspec": {
   "display_name": "pythonDSAI",
   "language": "python",
   "name": "pythondsai"
  },
  "language_info": {
   "codemirror_mode": {
    "name": "ipython",
    "version": 3
   },
   "file_extension": ".py",
   "mimetype": "text/x-python",
   "name": "python",
   "nbconvert_exporter": "python",
   "pygments_lexer": "ipython3",
   "version": "3.8.3"
  }
 },
 "nbformat": 4,
 "nbformat_minor": 5
}
