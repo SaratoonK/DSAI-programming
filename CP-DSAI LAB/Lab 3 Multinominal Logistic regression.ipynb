{
 "cells": [
  {
   "cell_type": "code",
   "execution_count": 13,
   "id": "0d8eb123",
   "metadata": {},
   "outputs": [],
   "source": [
    "from sklearn import datasets\n",
    "from sklearn.preprocessing import StandardScaler\n",
    "from sklearn.model_selection import train_test_split\n",
    "import numpy as np\n",
    "import matplotlib.pyplot as plt\n",
    "import time\n",
    "from sklearn.metrics import classification_report\n",
    "\n",
    "#Step 1: Prepare data\n",
    "\n",
    "# import some data to play with\n",
    "iris = datasets.load_iris()\n",
    "X = iris.data[:, 2:]  # we only take the first two features.\n",
    "y = iris.target  #now our y is three classes thus require multinomial\n",
    "# feature scaling helps improve reach convergence faster\n",
    "scaler = StandardScaler()\n",
    "X = scaler.fit_transform(X)\n",
    "\n",
    "# data split\n",
    "\n",
    "t = int(0.7*X.shape[0])\n",
    "\n",
    "#print(t)\n",
    "X_train = X[0:t]\n",
    "X_test = X[t:]\n",
    "y_train = y[0:t]\n",
    "y_test = y[t:]\n",
    "#print(X_train.shape)\n",
    "\n",
    "# add intercept to our X\n",
    "intercept = np.ones((X_train.shape[0], 1))\n",
    "#print(intercept.shape)\n",
    "X_train   = np.concatenate((intercept, X_train), axis=1)  #add intercept\n",
    "intercept = np.ones((X_test.shape[0], 1))\n",
    "X_test    = np.concatenate((intercept, X_test), axis=1)  #add intercept\n",
    "k = len(set(y))\n",
    "m = X_train.shape[0]  # no.of samples\n",
    "n = X_train.shape[1]  # no. of features\n",
    "Y_train_encoded = np.zeros((m, k))\n",
    "#print(y_train)\n",
    "for each_class in range(k):\n",
    "    cond = y_train==each_class\n",
    "    #print(cond)\n",
    "    Y_train_encoded[np.where(cond), each_class] = 1\n",
    "#print(Y_train_encoded)\n",
    "#print(m)"
   ]
  },
  {
   "cell_type": "code",
   "execution_count": 14,
   "id": "adf5289f",
   "metadata": {},
   "outputs": [],
   "source": [
    "class Logistic_Regression:\n",
    "    \n",
    "    def __init__(self,X, Y, k, n, max_iter=1000):\n",
    "        self.X = X\n",
    "        self.Y = Y\n",
    "        self.k = k\n",
    "        self.n = n\n",
    "        self.max_iter = max_iter\n",
    "        \n",
    "    def fit(self,method):\n",
    "        self.W = np.random.rand(n, k)\n",
    "        #print(self.W.shape)\n",
    "        l_rate = 0.01\n",
    "        start = time.time()\n",
    "        self.losses_curve = []\n",
    "        if method == 'batch':\n",
    "            for i in range(self.max_iter):\n",
    "                X = self.X\n",
    "                Y = self.Y\n",
    "                cost, grad =  self.gradient(X,Y)\n",
    "                if i % 500 == 0:\n",
    "                    print(f\"Cost at iteration {i}\", cost)\n",
    "                    self.losses_curve.append(cost)\n",
    "                self.W = self.W - l_rate * grad\n",
    "            finish = time.time()-start\n",
    "            print(\"The time taken to finish is: \",finish)\n",
    "        elif method == 'minibatch':\n",
    "            size = int(0.1*m)\n",
    "            #print(type(size))\n",
    "            for i in range(self.max_iter):\n",
    "                a = np.random.randint(m)\n",
    "                X = self.X[a:a+size]\n",
    "                Y = self.Y[a:a+size]\n",
    "                cost, grad =  self.gradient(X,Y)\n",
    "                if i % 500 == 0:\n",
    "                    print(f\"Cost at iteration {i}\", cost)\n",
    "                    self.losses_curve.append(cost)\n",
    "                self.W = self.W - l_rate * grad\n",
    "            finish = time.time()-start\n",
    "            print(\"The time taken to finish is: \",finish)\n",
    "        elif method == 'sto':\n",
    "            for i in range(self.max_iter):\n",
    "                a = np.random.randint(m)\n",
    "                X = self.X[a].reshape(1,-1)\n",
    "                Y = self.Y[a].reshape(1,-1)\n",
    "                #print(Y.shape)\n",
    "                #print(self.X.shape)\n",
    "                cost, grad =  self.gradient(X,Y)\n",
    "                if i % 500 == 0:\n",
    "                    print(f\"Cost at iteration {i}\", cost)\n",
    "                    self.losses_curve.append(cost)\n",
    "                self.W = self.W - l_rate * grad\n",
    "            finish = time.time()-start\n",
    "            print(\"The time taken to finish is: \",finish)\n",
    "        else :\n",
    "            raise ValueError(\"Wrong input\")\n",
    "\n",
    "    def gradient(self,X,Y):\n",
    "        m = X.shape[0]\n",
    "        h = self.h_theta(X)\n",
    "        #print(\"H.shape is\", h.shape)\n",
    "        #print(\"Y.shape is\", Y.shape)\n",
    "        cost = - np.sum(Y * np.log(h)) / m\n",
    "        #print(cost.shape)\n",
    "        self.error = h - Y\n",
    "        #print(\"error is\", self.error)\n",
    "        grad = self.softmax_grad(X)\n",
    "        return cost, grad\n",
    "\n",
    "    def softmax(self,theta_t_x):\n",
    "        return np.exp(theta_t_x) / np.sum(np.exp(theta_t_x), axis=1, keepdims=True)\n",
    "\n",
    "    def softmax_grad(self,X):\n",
    "        return  X.T @ self.error\n",
    "        \n",
    "    def h_theta(self,X):\n",
    "        return self.softmax(X @ self.W)\n",
    "    \n",
    "    def output(self,X_test):\n",
    "        return np.argmax(self.softmax(X_test @ self.W),axis = 1)\n",
    "    \n",
    "    def plot(self):\n",
    "        plt.plot(np.arange(len(self.losses_curve)) , self.losses_curve, label = \"Losses curve\")\n",
    "        plt.title(\"Losses\")\n",
    "        plt.xlabel(\"iter\")\n",
    "        plt.ylabel(\"losses\")\n",
    "        plt.legend()"
   ]
  },
  {
   "cell_type": "code",
   "execution_count": 16,
   "id": "6df070b8",
   "metadata": {},
   "outputs": [
    {
     "name": "stdout",
     "output_type": "stream",
     "text": [
      "Cost at iteration 0 1.157393606411613\n",
      "Cost at iteration 500 0.02941873066582177\n",
      "Cost at iteration 1000 0.020429804753790394\n",
      "Cost at iteration 1500 0.016552375603134786\n",
      "Cost at iteration 2000 0.014247316979977654\n",
      "Cost at iteration 2500 0.01266809225216442\n",
      "Cost at iteration 3000 0.011495003465246375\n",
      "Cost at iteration 3500 0.010576777272403722\n",
      "Cost at iteration 4000 0.009831226542428247\n",
      "Cost at iteration 4500 0.009209283940591059\n",
      "The time taken to finish is:  0.32359910011291504\n",
      "              precision    recall  f1-score   support\n",
      "\n",
      "           1       0.00      0.00      0.00         0\n",
      "           2       1.00      0.80      0.89        45\n",
      "\n",
      "    accuracy                           0.80        45\n",
      "   macro avg       0.50      0.40      0.44        45\n",
      "weighted avg       1.00      0.80      0.89        45\n",
      "\n"
     ]
    },
    {
     "name": "stderr",
     "output_type": "stream",
     "text": [
      "/opt/conda/lib/python3.8/site-packages/sklearn/metrics/_classification.py:1221: UndefinedMetricWarning: Recall and F-score are ill-defined and being set to 0.0 in labels with no true samples. Use `zero_division` parameter to control this behavior.\n",
      "  _warn_prf(average, modifier, msg_start, len(result))\n"
     ]
    },
    {
     "data": {
      "image/png": "[encoded data removed]",
      "text/plain": [
       "<Figure size 432x288 with 1 Axes>"
      ]
     },
     "metadata": {
      "needs_background": "light"
     },
     "output_type": "display_data"
    }
   ],
   "source": [
    "c = Logistic_Regression(X_train, Y_train_encoded, k, X_train.shape[1], max_iter=5000)\n",
    "method = \"batch\"\n",
    "c.fit(method)\n",
    "yhat = c.output(X_test)\n",
    "c.plot()\n",
    "#print(yhat)\n",
    "print(classification_report(y_test,yhat))"
   ]
  },
  {
   "cell_type": "code",
   "execution_count": 19,
   "id": "3f697142",
   "metadata": {},
   "outputs": [
    {
     "name": "stdout",
     "output_type": "stream",
     "text": [
      "Cost at iteration 0 1.3140592163033495\n",
      "Cost at iteration 500 0.037820139546769896\n",
      "Cost at iteration 1000 0.4125126014726726\n",
      "Cost at iteration 1500 0.10319963796824354\n",
      "Cost at iteration 2000 0.008007127259770751\n",
      "Cost at iteration 2500 0.006660986964693742\n",
      "Cost at iteration 3000 0.02653197279259072\n",
      "Cost at iteration 3500 0.008910876160991312\n",
      "Cost at iteration 4000 0.003935124863034259\n",
      "Cost at iteration 4500 0.0044831973229276295\n",
      "The time taken to finish is:  0.30103588104248047\n",
      "              precision    recall  f1-score   support\n",
      "\n",
      "           1       0.00      0.00      0.00         0\n",
      "           2       1.00      0.76      0.86        45\n",
      "\n",
      "    accuracy                           0.76        45\n",
      "   macro avg       0.50      0.38      0.43        45\n",
      "weighted avg       1.00      0.76      0.86        45\n",
      "\n"
     ]
    },
    {
     "name": "stderr",
     "output_type": "stream",
     "text": [
      "/opt/conda/lib/python3.8/site-packages/sklearn/metrics/_classification.py:1221: UndefinedMetricWarning: Recall and F-score are ill-defined and being set to 0.0 in labels with no true samples. Use `zero_division` parameter to control this behavior.\n",
      "  _warn_prf(average, modifier, msg_start, len(result))\n"
     ]
    },
    {
     "data": {
      "image/png": "[encoded data removed]",
      "text/plain": [
       "<Figure size 432x288 with 1 Axes>"
      ]
     },
     "metadata": {
      "needs_background": "light"
     },
     "output_type": "display_data"
    }
   ],
   "source": [
    "c = Logistic_Regression(X_train, Y_train_encoded, k, X_train.shape[1], max_iter=5000)\n",
    "method = \"minibatch\"\n",
    "c.fit(method)\n",
    "yhat = c.output(X_test)\n",
    "c.plot()\n",
    "#print(yhat)\n",
    "print(classification_report(y_test,yhat))"
   ]
  },
  {
   "cell_type": "code",
   "execution_count": 18,
   "id": "83f68e6b",
   "metadata": {},
   "outputs": [
    {
     "name": "stdout",
     "output_type": "stream",
     "text": [
      "Cost at iteration 0 1.190496755734792\n",
      "Cost at iteration 500 0.06462776403954204\n",
      "Cost at iteration 1000 0.05282378902528192\n",
      "Cost at iteration 1500 0.18100870693897372\n",
      "Cost at iteration 2000 0.03793533997361757\n",
      "Cost at iteration 2500 0.1455811015217323\n",
      "Cost at iteration 3000 1.5678236506133554\n",
      "Cost at iteration 3500 0.02104196059808918\n",
      "Cost at iteration 4000 0.045441587281600124\n",
      "Cost at iteration 4500 0.08667315248077766\n",
      "The time taken to finish is:  0.2843003273010254\n",
      "              precision    recall  f1-score   support\n",
      "\n",
      "           1       0.00      0.00      0.00         0\n",
      "           2       1.00      0.22      0.36        45\n",
      "\n",
      "    accuracy                           0.22        45\n",
      "   macro avg       0.50      0.11      0.18        45\n",
      "weighted avg       1.00      0.22      0.36        45\n",
      "\n"
     ]
    },
    {
     "name": "stderr",
     "output_type": "stream",
     "text": [
      "/opt/conda/lib/python3.8/site-packages/sklearn/metrics/_classification.py:1221: UndefinedMetricWarning: Recall and F-score are ill-defined and being set to 0.0 in labels with no true samples. Use `zero_division` parameter to control this behavior.\n",
      "  _warn_prf(average, modifier, msg_start, len(result))\n"
     ]
    },
    {
     "data": {
      "image/png": "[encoded data removed]",
      "text/plain": [
       "<Figure size 432x288 with 1 Axes>"
      ]
     },
     "metadata": {
      "needs_background": "light"
     },
     "output_type": "display_data"
    }
   ],
   "source": [
    "c = Logistic_Regression(X_train, Y_train_encoded, k, X_train.shape[1], max_iter=5000)\n",
    "method = \"sto\"\n",
    "c.fit(method)\n",
    "yhat = c.output(X_test)\n",
    "c.plot()\n",
    "#print(yhat)\n",
    "print(classification_report(y_test,yhat))"
   ]
  },
  {
   "cell_type": "markdown",
   "id": "cf3fc2c5",
   "metadata": {},
   "source": [
    "Conclusion\n",
    "\n",
    "From the three results above, we can see that in terms of time taken to finish the analysis, The method \"batch\" took the most time followed by \"minibatch\" and then \"sto\", which should be natural because \"batch\" analysed all the sample while \"minibatch\" only pick some number of sample to analysed and \"sto\" only pick one sample to analysed per iterations. As for the losses curve, because the \"batch\" method used all sample for analysis, It has the most stable curve while the \"minibatch\" has some unstable region but for the \"sto\" we can clearly see that the curve is very unstable because it used one sample for analysis in each iterations."
   ]
  }
 ],
 "metadata": {
  "kernelspec": {
   "display_name": "Python 3 (ipykernel)",
   "language": "python",
   "name": "python3"
  },
  "language_info": {
   "codemirror_mode": {
    "name": "ipython",
    "version": 3
   },
   "file_extension": ".py",
   "mimetype": "text/x-python",
   "name": "python",
   "nbconvert_exporter": "python",
   "pygments_lexer": "ipython3",
   "version": "3.8.3"
  }
 },
 "nbformat": 4,
 "nbformat_minor": 5
}
