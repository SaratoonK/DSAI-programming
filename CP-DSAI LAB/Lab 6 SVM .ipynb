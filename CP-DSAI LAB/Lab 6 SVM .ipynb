{
 "cells": [
  {
   "cell_type": "code",
   "execution_count": 1,
   "id": "f7a71273",
   "metadata": {},
   "outputs": [],
   "source": [
    "import numpy as np\n",
    "import matplotlib.pyplot as plt\n",
    "from sklearn.model_selection import train_test_split\n",
    "import cvxopt\n",
    "from sklearn.metrics import classification_report"
   ]
  },
  {
   "cell_type": "code",
   "execution_count": 2,
   "id": "d5d9297b",
   "metadata": {},
   "outputs": [],
   "source": [
    "dataset = [[3.63636364e+00,1.09036800e+00,0], [4.09090909e+00,2.28173256e+00,0], [1.01010101e-01,1.31203345e+00,1], [4.54545455e-01,1.98982144e+00,1], [1.91919192e+00,1.74885201e+00,0], [1.76767677e+00,3.33230999e-01,1], [2.57575758e+00,2.97181157e+00,0], [1.06060606e+00,8.10748756e-01,1], [2.97979798e+00,1.06342392e+00,1], [1.86868687e+00,1.59906946e+00,0], [4.29292929e+00,2.79576184e+00,0], [4.39393939e+00,2.94500082e+00,0], [2.97979798e+00,2.06342392e+00,0], [2.37373737e+00,2.92235429e+00,0], [2.17171717e+00,1.51367739e+00,1], [2.67676768e+00,2.84972543e+00,0], [3.68686869e+00,1.67430145e-01,1], [5.05050505e-01,1.99987413e+00,1], [7.57575758e-01,2.69007901e+00,0], [1.46464646e+00,1.00616154e+00,0], [4.14141414e+00,2.42979491e+00,0], [1.71717172e+00,1.22385354e+00,0], [4.34343434e+00,1.88145336e+00,1], [3.53535354e-01,2.89599377e+00,0], [3.33333333e+00,1.33974596e-01,1], [1.46464646e+00,6.16153554e-03,1], [1.66666667e+00,1.33974596e-01,1], [4.74747475e+00,2.71269417e+00,0], [2.32323232e+00,1.84972543e+00,1], [4.14141414e+00,1.42979491e+00,1], [3.88888889e+00,1.65797986e+00,0], [1.51515152e-01,2.45822652e+00,0], [2.77777778e+00,2.64278761e+00,0], [1.21212121e+00,3.81841014e-01,1], [3.83838384e+00,5.13803264e-01,1], [3.68686869e+00,1.16743015e+00,0], [2.57575758e+00,1.97181157e+00,1], [4.09090909e+00,1.28173256e+00,1], [2.12121212e+00,1.37166246e+00,1], [3.18181818e+00,4.59359183e-01,1], [4.49494949e+00,1.99987413e+00,1], [1.31313131e+00,1.16743015e+00,0], [4.64646465e+00,2.89599377e+00,0], [2.52525253e+00,1.99685478e+00,1], [1.41414141e+00,3.61578414e-02,1], [3.23232323e+00,3.33230999e-01,1], [2.27272727e+00,1.75574957e+00,1], [2.17171717e+00,2.51367739e+00,0], [1.16161616e+00,5.13803264e-01,1], [2.82828283e+00,2.51367739e+00,0], [2.27272727e+00,2.75574957e+00,0], [3.33333333e+00,1.13397460e+00,0], [3.13131313e+00,1.59906946e+00,0], [2.02020202e+00,2.06342392e+00,0], [3.48484848e+00,1.13266082e-03,1], [5.05050505e-01,2.99987413e+00,0], [4.04040404e+00,1.12659245e+00,1], [3.78787879e+00,3.81841014e-01,1], [1.41414141e+00,1.03615784e+00,0], [1.26262626e+00,2.65408291e-01,1], [3.28282828e+00,2.23853536e-01,1], [4.69696970e+00,2.81457595e+00,0], [2.62626263e+00,1.92235429e+00,1], [1.71717172e+00,2.23853536e-01,1], [5.05050505e-02,2.15800140e+00,0], [3.03030303e+00,1.90494396e+00,0], [2.92929293e+00,1.22031053e+00,1], [7.57575758e-01,1.69007901e+00,1], [2.77777778e+00,1.64278761e+00,1], [1.11111111e+00,6.57979857e-01,1], [3.08080808e+00,1.74885201e+00,0], [2.87878788e+00,2.37166246e+00,0], [2.07070707e+00,1.22031053e+00,1], [2.52525253e-01,2.71269417e+00,0], [3.53535354e-01,1.89599377e+00,1], [2.02020202e+00,1.06342392e+00,1], [5.05050505e-02,1.15800140e+00,1], [3.58585859e+00,1.03615784e+00,0], [1.01010101e-01,2.31203345e+00,0], [0.00000000e+00,1.00000000e+00,1], [6.56565657e-01,1.88145336e+00,1], [4.24242424e+00,1.69007901e+00,1], [4.69696970e+00,1.81457595e+00,1], [9.09090909e-01,2.28173256e+00,0], [9.09090909e-01,1.28173256e+00,1], [4.54545455e+00,1.98982144e+00,1], [2.87878788e+00,1.37166246e+00,1], [3.38383838e+00,6.58521397e-02,1], [9.59595960e-01,2.12659245e+00,0], [7.07070707e-01,2.79576184e+00,0], [1.01010101e+00,9.68272067e-01,1], [2.12121212e+00,2.37166246e+00,0], [4.59595960e+00,1.95490224e+00,1], [1.61616162e+00,6.58521397e-02,1], [2.42424242e+00,2.97181157e+00,0], [5.00000000e+00,2.00000000e+00,0], [2.07070707e+00,2.22031053e+00,0], [3.53535354e+00,1.00616154e+00,0], [1.36363636e+00,1.09036800e+00,0], [4.44444444e+00,2.98480775e+00,0], [3.38383838e+00,1.06585214e+00,0], [4.04040404e-01,1.95490224e+00,1], [6.06060606e-01,2.94500082e+00,0], [1.86868687e+00,5.99069465e-01,1], [1.06060606e+00,1.81074876e+00,0], [4.94949495e+00,2.15800140e+00,0], [1.16161616e+00,1.51380326e+00,0], [8.58585859e-01,1.42979491e+00,1], [2.22222222e+00,2.64278761e+00,0], [2.22222222e+00,1.64278761e+00,1], [4.79797980e+00,1.59290793e+00,1], [2.82828283e+00,1.51367739e+00,1], [3.43434343e+00,1.02119755e+00,0], [4.54545455e+00,2.98982144e+00,0], [8.08080808e-01,2.56705986e+00,0], [2.37373737e+00,1.92235429e+00,1], [2.52525253e-01,1.71269417e+00,1], [3.48484848e+00,1.00113266e+00,0], [3.83838384e+00,1.51380326e+00,0], [4.89898990e+00,1.31203345e+00,1], [9.59595960e-01,1.12659245e+00,1], [4.94949495e+00,1.15800140e+00,1], [1.51515152e-01,1.45822652e+00,1], [4.04040404e+00,2.12659245e+00,0], [4.59595960e+00,2.95490224e+00,0], [1.56565657e+00,1.02119755e+00,0], [4.04040404e-01,2.95490224e+00,0], [1.96969697e+00,9.04943957e-01,1], [4.64646465e+00,1.89599377e+00,1], [8.58585859e-01,2.42979491e+00,0], [4.19191919e+00,1.56705986e+00,1], [3.18181818e+00,1.45935918e+00,0], [3.73737374e+00,1.26540829e+00,0], [2.02020202e-01,1.59290793e+00,1], [3.08080808e+00,7.48852013e-01,1], [3.88888889e+00,6.57979857e-01,1], [1.56565657e+00,2.11975538e-02,1], [4.89898990e+00,2.31203345e+00,0], [3.28282828e+00,1.22385354e+00,0], [3.73737374e+00,2.65408291e-01,1], [3.98989899e+00,9.68272067e-01,1], [2.42424242e+00,1.97181157e+00,1], [3.53535354e+00,6.16153554e-03,1], [2.47474747e+00,1.99685478e+00,1], [1.26262626e+00,1.26540829e+00,0], [0.00000000e+00,2.00000000e+00,0], [1.11111111e+00,1.65797986e+00,0], [1.01010101e+00,1.96827207e+00,0], [3.23232323e+00,1.33323100e+00,0], [1.51515152e+00,1.13266082e-03,1], [2.92929293e+00,2.22031053e+00,0], [2.32323232e+00,2.84972543e+00,0], [1.91919192e+00,7.48852013e-01,1], [2.72727273e+00,1.75574957e+00,1], [4.19191919e+00,2.56705986e+00,0], [6.56565657e-01,2.88145336e+00,0], [3.43434343e+00,2.11975538e-02,1], [1.81818182e+00,1.45935918e+00,0], [3.93939394e+00,8.10748756e-01,1], [3.93939394e+00,1.81074876e+00,0], [4.74747475e+00,1.71269417e+00,1], [3.58585859e+00,3.61578414e-02,1], [1.76767677e+00,1.33323100e+00,0], [3.98989899e+00,1.96827207e+00,0], [1.31313131e+00,1.67430145e-01,1], [5.00000000e+00,1.00000000e+00,1], [1.81818182e+00,4.59359183e-01,1], [1.36363636e+00,9.03680046e-02,1], [3.13131313e+00,5.99069465e-01,1], [2.47474747e+00,2.99685478e+00,0], [5.55555556e-01,1.98480775e+00,1], [4.24242424e+00,2.69007901e+00,0], [4.49494949e+00,2.99987413e+00,0], [4.34343434e+00,2.88145336e+00,0], [4.79797980e+00,2.59290793e+00,0], [1.66666667e+00,1.13397460e+00,0], [4.44444444e+00,1.98480775e+00,1], [1.61616162e+00,1.06585214e+00,0], [3.78787879e+00,1.38184101e+00,0], [4.54545455e-01,2.98982144e+00,0], [4.29292929e+00,1.79576184e+00,1], [2.67676768e+00,1.84972543e+00,1], [8.08080808e-01,1.56705986e+00,1], [3.03030303e-01,1.81457595e+00,1], [3.03030303e-01,2.81457595e+00,0], [1.96969697e+00,1.90494396e+00,0], [6.06060606e-01,1.94500082e+00,1], [3.63636364e+00,9.03680046e-02,1], [1.51515152e+00,1.00113266e+00,0], [1.21212121e+00,1.38184101e+00,0], [5.55555556e-01,2.98480775e+00,0], [4.84848485e+00,1.45822652e+00,1], [7.07070707e-01,1.79576184e+00,1], [2.52525253e+00,2.99685478e+00,0], [4.39393939e+00,1.94500082e+00,1], [2.72727273e+00,2.75574957e+00,0], [2.62626263e+00,2.92235429e+00,0], [4.84848485e+00,2.45822652e+00,0], [2.02020202e-01,2.59290793e+00,0], [3.03030303e+00,9.04943957e-01,1]]"
   ]
  },
  {
   "cell_type": "code",
   "execution_count": 3,
   "id": "1612d0d3",
   "metadata": {},
   "outputs": [
    {
     "name": "stdout",
     "output_type": "stream",
     "text": [
      "(200, 3)\n"
     ]
    },
    {
     "data": {
      "image/png": "[encoded data removed]",
      "text/plain": [
       "<Figure size 432x288 with 1 Axes>"
      ]
     },
     "metadata": {
      "needs_background": "light"
     },
     "output_type": "display_data"
    }
   ],
   "source": [
    "dataset = np.array(dataset)\n",
    "print(dataset.shape) #shape = (200,3)\n",
    "X = dataset[:,:2]\n",
    "y = dataset[:,2:]\n",
    "plt.scatter(X[:,0],X[:,1],c = 'r')\n",
    "plt.show()"
   ]
  },
  {
   "cell_type": "code",
   "execution_count": 4,
   "id": "b7628020",
   "metadata": {},
   "outputs": [],
   "source": [
    "class SVM:\n",
    "    \n",
    "    def linear(self,x, z):\n",
    "        return np.dot(x, z.T)\n",
    "\n",
    "    def polynomial(self,x, z, p=2):\n",
    "        return (1 + np.dot(x, z.T)) ** p\n",
    "\n",
    "    def gaussian(self,x, z, sigma=0.99):\n",
    "        return np.exp(-np.linalg.norm(x - z) ** 2 / (2 * (sigma ** 2)))\n",
    "    \n",
    "    def fit(self, X, y, kernel, C):\n",
    "        self.y = y\n",
    "        self.X = X\n",
    "        m, n = X.shape\n",
    "\n",
    "        # Calculate Kernel\n",
    "        self.K = np.zeros((m, m))\n",
    "        for i in range(m):\n",
    "            if kernel == 'linear':\n",
    "                self.K[i, :] = self.linear(X[i, np.newaxis], self.X)\n",
    "            elif kernel == 'polynomial':\n",
    "                self.K[i, :] = self.polynomial(X[i, np.newaxis], self.X)\n",
    "            else:\n",
    "                self.K[i, :] = self.gaussian(X[i, np.newaxis], self.X)\n",
    "\n",
    "        # Solve with cvxopt final QP needs to be reformulated\n",
    "        # to match the input form for cvxopt.solvers.qp\n",
    "        P = cvxopt.matrix(np.outer(y, y) * self.K)\n",
    "        q = cvxopt.matrix(-np.ones((m, 1)))\n",
    "        A = cvxopt.matrix(y, (1, m), \"d\")\n",
    "        b = cvxopt.matrix(np.zeros(1))\n",
    "        if C is not None: \n",
    "            G = cvxopt.matrix(np.vstack((np.eye(m) * -1, np.eye(m))))\n",
    "            h = cvxopt.matrix(np.hstack((np.zeros(m), np.ones(m) * C)))\n",
    "        else:\n",
    "            G = cvxopt.matrix(-np.eye(m))\n",
    "            h = cvxopt.matrix(np.zeros(m))\n",
    "        cvxopt.solvers.options[\"show_progress\"] = False\n",
    "        sol = cvxopt.solvers.qp(P, q, G, h, A, b)\n",
    "        a = np.ravel(sol[\"x\"])\n",
    "        #print(a)\n",
    "        \n",
    "        sv_idx = a > 1e-5\n",
    "        #print(sv_idx)\n",
    "        ind = np.arange(len(a))\n",
    "        #print(ind)\n",
    "        a = a[sv_idx]    \n",
    "        sv = X[sv_idx]\n",
    "        #print(X)\n",
    "        sv_y = y[sv_idx]\n",
    "        \n",
    "        b = 0\n",
    "        for n in range(len(a)): #b = y - wTx\n",
    "            b += sv_y[n]\n",
    "            b -= np.sum(a * sv_y * self.K[ind[n],sv_idx])\n",
    "        b /= len(a)\n",
    "        \n",
    "        if kernel == 'linear':\n",
    "            w = np.zeros(X.shape[1])\n",
    "            for n in range(len(a)):\n",
    "                w = w + (a[n] * sv_y[n] * sv[n])\n",
    "        else:\n",
    "            w = None\n",
    "        return sv, sv_y, a, w, b\n",
    "\n",
    "    def predict(self,X, kernel,sv, sv_y, a, w, b):\n",
    "        if w is not None:  \n",
    "            return np.sign(self.linear(X, w) + b)\n",
    "        else:\n",
    "            y_predict = np.zeros(len(X))\n",
    "            for i in range(len(X)):\n",
    "                w = 0\n",
    "                for a_val, sv_y_val, sv_val in zip(a, sv_y, sv):\n",
    "                    if kernel == 'polynomial':\n",
    "                        w = w + a_val * sv_y_val * self.polynomial(X[i], sv_val)\n",
    "                    else:\n",
    "                        w = w + a_val * sv_y_val * self.gaussian(X[i], sv_val)\n",
    "                y_predict[i] = w\n",
    "            return np.sign(y_predict + b)"
   ]
  },
  {
   "cell_type": "code",
   "execution_count": 5,
   "id": "a89e27a9",
   "metadata": {},
   "outputs": [
    {
     "name": "stdout",
     "output_type": "stream",
     "text": [
      "[-1.  1.  1. -1. -1. -1.  1.  1. -1.  1.  1. -1. -1. -1.  1. -1.  1.  1.\n",
      "  1. -1.  1.  1. -1. -1.  1.  1. -1.  1. -1.  1. -1. -1.  1.  1. -1. -1.\n",
      "  1. -1.  1.  1.  1. -1. -1. -1.  1. -1.  1. -1. -1. -1.  1.  1. -1.  1.\n",
      " -1. -1. -1. -1. -1.  1.]\n",
      "              precision    recall  f1-score   support\n",
      "\n",
      "        -1.0       0.72      0.74      0.73        31\n",
      "         1.0       0.71      0.69      0.70        29\n",
      "\n",
      "    accuracy                           0.72        60\n",
      "   macro avg       0.72      0.72      0.72        60\n",
      "weighted avg       0.72      0.72      0.72        60\n",
      "\n"
     ]
    }
   ],
   "source": [
    "X_train, X_test, y_train, y_test = train_test_split(X, y, test_size=0.3)\n",
    "y_train[y_train==0] = -1\n",
    "y_test[y_test==0] = -1\n",
    "model = SVM()\n",
    "kernel = 'gaussian'\n",
    "C = None\n",
    "sv, sv_y, a, w, b = model.fit(X_train,y_train,kernel,C)\n",
    "#print(a.shape)\n",
    "yhat = model.predict(X_test,kernel,sv, sv_y, a, w, b)\n",
    "print(yhat)\n",
    "print(classification_report(y_test, yhat))"
   ]
  }
 ],
 "metadata": {
  "kernelspec": {
   "display_name": "Python 3 (ipykernel)",
   "language": "python",
   "name": "python3"
  },
  "language_info": {
   "codemirror_mode": {
    "name": "ipython",
    "version": 3
   },
   "file_extension": ".py",
   "mimetype": "text/x-python",
   "name": "python",
   "nbconvert_exporter": "python",
   "pygments_lexer": "ipython3",
   "version": "3.8.3"
  }
 },
 "nbformat": 4,
 "nbformat_minor": 5
}
