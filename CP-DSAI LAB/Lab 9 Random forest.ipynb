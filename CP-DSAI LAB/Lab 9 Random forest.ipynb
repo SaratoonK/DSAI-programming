{
 "cells": [
  {
   "cell_type": "code",
   "execution_count": 5,
   "id": "b5799094",
   "metadata": {},
   "outputs": [],
   "source": [
    "import numpy as np\n",
    "import matplotlib.pyplot as plt"
   ]
  },
  {
   "cell_type": "code",
   "execution_count": 6,
   "id": "6595fd00",
   "metadata": {},
   "outputs": [],
   "source": [
    "from sklearn.datasets import load_iris\n",
    "from sklearn.model_selection import train_test_split\n",
    "from sklearn.metrics import classification_report, accuracy_score\n",
    "import random, math\n",
    "from sklearn.tree import DecisionTreeClassifier\n",
    "from scipy import stats\n",
    "\n",
    "iris = load_iris()\n",
    "X = iris.data\n",
    "y = iris.target\n",
    "\n",
    "X_train, X_test, y_train, y_test = train_test_split(X, y, \n",
    "                test_size=0.3, shuffle=True, random_state=42)"
   ]
  },
  {
   "cell_type": "code",
   "execution_count": 13,
   "id": "5e279b26",
   "metadata": {},
   "outputs": [],
   "source": [
    "class RandomForest:\n",
    "    def __init__(self,B,bootstrap_ratio):\n",
    "        self.B = B\n",
    "        self.bootstrap_ratio = bootstrap_ratio\n",
    "        self.tree_params = {'max_depth': 2, 'max_features':'sqrt'}\n",
    "        self.models = [DecisionTreeClassifier(**self.tree_params) for _ in range(B)]\n",
    "    def fit(self,X_train,y_train):\n",
    "        m, n = X_train.shape\n",
    "        sample_size = int(self.bootstrap_ratio * len(X_train))\n",
    "\n",
    "        xsamples = np.zeros((self.B, sample_size, n))\n",
    "        ysamples = np.zeros((self.B, sample_size))\n",
    "        \n",
    "        x_oob = []  \n",
    "        y_oob = []\n",
    "\n",
    "        #subsamples for each model\n",
    "        for i in range(self.B):\n",
    "            ##sampling with replacement; i.e., sample can occur more than once\n",
    "            #for the same predictor\n",
    "            used_idx = []\n",
    "            for j in range(sample_size):\n",
    "                idx = random.randrange(m)   #<----with replacement #change so no repetition\n",
    "                while idx in used_idx:\n",
    "                    idx = random.randrange(m)\n",
    "                xsamples[i, j, :] = X_train[idx]\n",
    "                ysamples[i, j] = y_train[idx]\n",
    "                used_idx.append(idx)\n",
    "                #keep track of idx that i did not use for ith tree\n",
    "            mask = np.zeros((m))\n",
    "#             print(mask)\n",
    "            mask[used_idx] = 1\n",
    "#             print(mask)\n",
    "            x_oob.append(X_train[(mask == 0)])\n",
    "            y_oob.append(y_train[(mask == 0)])\n",
    "        \n",
    "        #fitting each estimator\n",
    "        oob_score = 0\n",
    "        print(\"Out of bag score for each tree\")\n",
    "        for i, model in enumerate(self.models):\n",
    "            \n",
    "            _X = xsamples[i]\n",
    "            _y = ysamples[i]\n",
    "            model.fit(_X, _y)\n",
    "\n",
    "            #calculating oob score\n",
    "            _X_test = np.array(x_oob[i])\n",
    "            _y_test = np.array(y_oob[i])\n",
    "            yhat = model.predict(_X_test)\n",
    "            oob_score += accuracy_score(_y_test, yhat)\n",
    "            print(f\"Tree {i}\", accuracy_score(_y_test, yhat))\n",
    "        avg_oob_score = oob_score / len(self.models)\n",
    "        print(\"Average out of bag score\")\n",
    "        print(avg_oob_score)\n",
    "\n",
    "            \n",
    "    def predict(self,X_test):\n",
    "        predictions = np.zeros((self.B, X_test.shape[0]))\n",
    "        for i, model in enumerate(self.models):\n",
    "            yhat = model.predict(X_test)\n",
    "            predictions[i, :] = yhat\n",
    "#             print(predictions.shape)\n",
    "        return stats.mode(predictions)[0][0]"
   ]
  },
  {
   "cell_type": "code",
   "execution_count": 14,
   "id": "18e839ad",
   "metadata": {},
   "outputs": [
    {
     "name": "stdout",
     "output_type": "stream",
     "text": [
      "Out of bag score for each tree\n",
      "Tree 0 0.7619047619047619\n",
      "Tree 1 0.9523809523809523\n",
      "Tree 2 0.9523809523809523\n",
      "Tree 3 0.9523809523809523\n",
      "Tree 4 0.9047619047619048\n",
      "Average out of bag score\n",
      "0.9047619047619048\n",
      "              precision    recall  f1-score   support\n",
      "\n",
      "           0       1.00      1.00      1.00        19\n",
      "           1       1.00      0.92      0.96        13\n",
      "           2       0.93      1.00      0.96        13\n",
      "\n",
      "    accuracy                           0.98        45\n",
      "   macro avg       0.98      0.97      0.97        45\n",
      "weighted avg       0.98      0.98      0.98        45\n",
      "\n"
     ]
    }
   ],
   "source": [
    "model = RandomForest(B=5, bootstrap_ratio=0.8)\n",
    "model.fit(X_train, y_train)\n",
    "yhat = model.predict(X_test)\n",
    "# print(yhat)\n",
    "print(classification_report(y_test, yhat))"
   ]
  }
 ],
 "metadata": {
  "kernelspec": {
   "display_name": "pythonDSAI",
   "language": "python",
   "name": "pythondsai"
  },
  "language_info": {
   "codemirror_mode": {
    "name": "ipython",
    "version": 3
   },
   "file_extension": ".py",
   "mimetype": "text/x-python",
   "name": "python",
   "nbconvert_exporter": "python",
   "pygments_lexer": "ipython3",
   "version": "3.8.3"
  }
 },
 "nbformat": 4,
 "nbformat_minor": 5
}
