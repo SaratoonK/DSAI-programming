{
 "cells": [
  {
   "cell_type": "code",
   "execution_count": 108,
   "metadata": {},
   "outputs": [
    {
     "name": "stdout",
     "output_type": "stream",
     "text": [
      "input is: [27, 17, 3, 16, 13, 10, 1, 5, 7, 12, 4, 8, 9, 0]\n",
      "final result is:  [0, 1, 3, 4, 5, 7, 8, 9, 10, 12, 13, 16, 17, 27]\n",
      "input is: [4, 1, 3, 2, 16, 9, 10, 14, 8, 7]\n",
      "final result is:  [1, 2, 3, 4, 7, 8, 9, 10, 14, 16]\n",
      "input is: [5, 3, 17, 10, 84, 19, 6, 22, 9]\n",
      "final result is:  [3, 5, 6, 9, 10, 17, 19, 22, 84]\n"
     ]
    }
   ],
   "source": [
    "def parent(i):\n",
    "    return i/2\n",
    "\n",
    "def left(i):\n",
    "    return 2*i\n",
    "\n",
    "def right(i):\n",
    "    return 2*i + 1\n",
    "\n",
    "def maxheap(a,i):\n",
    "    l = left(i)\n",
    "    # print(\"left is\",l)\n",
    "    r = right(i)\n",
    "    # print(\"right is\",r)\n",
    "    if l <= len(a)-1 and a[l] > a[i]:\n",
    "        largest = l\n",
    "    else:\n",
    "        largest = i\n",
    "    if r <= len(a)-1 and a[r] > a[largest]:\n",
    "        largest = r\n",
    "    if largest != i:\n",
    "        # print(largest)\n",
    "        a[i],a[largest] = a[largest],a[i]\n",
    "        maxheap(a,largest)\n",
    "# maxheap(a,3)\n",
    "\n",
    "def build_maxheap(a):\n",
    "    heap_size = len(a) - 1\n",
    "    for i in range(int((len(a) - 1)/2),0,-1):\n",
    "        # print(\"this is i\",i)\n",
    "        maxheap(a,i)\n",
    "    # print(a)\n",
    "\n",
    "def heapsort(a):\n",
    "    # print(\"start\",a)\n",
    "    a.insert(0,0)\n",
    "    d = [0] * (len(a)-1)\n",
    "    build_maxheap(a)\n",
    "    # print(\"after build\",a)\n",
    "    for i in range(len(a) - 1,0,-1):\n",
    "        # print(\"this is i \",i)\n",
    "        # print(\"before swap\",a)\n",
    "        a[1],a[i] = a[i],a[1]\n",
    "        # print(\"after swap\",a)\n",
    "        d[i-1] = a[i]\n",
    "        del a[i]\n",
    "        maxheap(a,1)\n",
    "    print(\"final result is: \",d)\n",
    "\n",
    "a = [27,17,3,16,13,10,1,5,7,12,4,8,9,0]\n",
    "b = [4,1,3,2,16,9,10,14,8,7]\n",
    "c = [5,3,17,10,84,19,6,22,9]\n",
    "print(\"input is:\",a)\n",
    "heapsort(a)\n",
    "print(\"input is:\",b)\n",
    "heapsort(b)\n",
    "print(\"input is:\",c)\n",
    "heapsort(c)"
   ]
  }
 ],
 "metadata": {
  "kernelspec": {
   "display_name": "Python 3.8.3 64-bit ('BCIEEG': venv)",
   "language": "python",
   "name": "python3"
  },
  "language_info": {
   "codemirror_mode": {
    "name": "ipython",
    "version": 3
   },
   "file_extension": ".py",
   "mimetype": "text/x-python",
   "name": "python",
   "nbconvert_exporter": "python",
   "pygments_lexer": "ipython3",
   "version": "3.8.3"
  },
  "orig_nbformat": 4,
  "vscode": {
   "interpreter": {
    "hash": "2beced8b65475b830cffeb19ac2da63a79efc2cc1df15bc0d79e8e02d3b67b43"
   }
  }
 },
 "nbformat": 4,
 "nbformat_minor": 2
}
