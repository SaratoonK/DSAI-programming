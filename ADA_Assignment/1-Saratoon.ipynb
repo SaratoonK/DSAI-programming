{
 "cells": [
  {
   "cell_type": "markdown",
   "metadata": {},
   "source": [
    "**Insertion sort**"
   ]
  },
  {
   "cell_type": "code",
   "execution_count": 27,
   "metadata": {},
   "outputs": [
    {
     "name": "stdout",
     "output_type": "stream",
     "text": [
      "[44, 56, 21, 89, 5, 77, 32, 19, 64]\n",
      "[21, 44, 56, 89, 5, 77, 32, 19, 64]\n",
      "[21, 44, 56, 89, 5, 77, 32, 19, 64]\n",
      "[5, 21, 44, 56, 89, 77, 32, 19, 64]\n",
      "[5, 21, 44, 56, 77, 89, 32, 19, 64]\n",
      "[5, 21, 32, 44, 56, 77, 89, 19, 64]\n",
      "[5, 19, 21, 32, 44, 56, 77, 89, 64]\n",
      "[5, 19, 21, 32, 44, 56, 64, 77, 89]\n",
      "final results: [5, 19, 21, 32, 44, 56, 64, 77, 89]\n"
     ]
    }
   ],
   "source": [
    "a = [56,44,21,89,5,77,32,19,64]\n",
    "for j in range(1,len(a)):\n",
    "    key = a[j] #j=1\n",
    "    i = j - 1 #i=0\n",
    "    while i > -1 and a[i]>key: \n",
    "        a[i + 1] = a[i]\n",
    "        i = i - 1\n",
    "    a[i + 1] = key\n",
    "    print(a)\n",
    "print(f\"final results: {a}\")"
   ]
  },
  {
   "cell_type": "markdown",
   "metadata": {},
   "source": [
    "**Merge sort**"
   ]
  },
  {
   "cell_type": "code",
   "execution_count": 75,
   "metadata": {},
   "outputs": [
    {
     "name": "stdout",
     "output_type": "stream",
     "text": [
      "<class 'list'>\n",
      "[2, 3, 5, 7, inf]\n",
      "[1, 4, 6, 8, inf]\n",
      "final results: [1, 2, 3, 4, 5, 6, 7, 8]\n"
     ]
    }
   ],
   "source": [
    "import numpy as np\n",
    "b = [5,2,3,7,1,4,8,6]\n",
    "p = 0\n",
    "r = len(b)\n",
    "q = (p + r)/2\n",
    "def merge(b,p,q,r):\n",
    "    print(type(b))\n",
    "    n1 = int(q - p)\n",
    "    n2 = int(r - q)\n",
    "    left = []\n",
    "    right = []\n",
    "    for i in range((n1)):\n",
    "        left.append(b[i])\n",
    "    for j in range((n2)):\n",
    "        right.append(b[int(q) + j])\n",
    "    left = sorted(left)\n",
    "    right = sorted(right)\n",
    "    left.append(float(\"inf\"))\n",
    "    right.append(float(\"inf\"))\n",
    "    print(left)\n",
    "    print(right)\n",
    "    i = 0\n",
    "    j = 0\n",
    "    for k in range(r):\n",
    "        if left[i] <= right[j]:\n",
    "            b[k] = left[i]\n",
    "            i = i + 1\n",
    "        else:\n",
    "            b[k] = right[j]\n",
    "            j = j + 1\n",
    "    print(f\"final results: {b}\")\n",
    "\n",
    "merge(b,p,q,r)"
   ]
  }
 ],
 "metadata": {
  "kernelspec": {
   "display_name": "Python 3.8.3 64-bit ('BCIEEG': venv)",
   "language": "python",
   "name": "python3"
  },
  "language_info": {
   "codemirror_mode": {
    "name": "ipython",
    "version": 3
   },
   "file_extension": ".py",
   "mimetype": "text/x-python",
   "name": "python",
   "nbconvert_exporter": "python",
   "pygments_lexer": "ipython3",
   "version": "3.8.3"
  },
  "orig_nbformat": 4,
  "vscode": {
   "interpreter": {
    "hash": "2beced8b65475b830cffeb19ac2da63a79efc2cc1df15bc0d79e8e02d3b67b43"
   }
  }
 },
 "nbformat": 4,
 "nbformat_minor": 2
}
