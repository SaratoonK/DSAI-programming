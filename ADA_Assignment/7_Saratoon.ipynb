{
 "cells": [
  {
   "cell_type": "code",
   "execution_count": 1,
   "metadata": {},
   "outputs": [
    {
     "name": "stdout",
     "output_type": "stream",
     "text": [
      "converting adjacency list to adjacency matrix\n",
      "[[0. 1. 0. 0. 0. 0. 0.]\n",
      " [0. 0. 0. 1. 0. 0. 1.]\n",
      " [0. 0. 0. 1. 0. 0. 0.]\n",
      " [0. 0. 0. 0. 0. 1. 0.]\n",
      " [0. 0. 1. 1. 0. 0. 0.]\n",
      " [0. 0. 0. 0. 0. 0. 0.]\n",
      " [0. 0. 0. 0. 1. 0. 0.]]\n"
     ]
    }
   ],
   "source": [
    "graph = {\n",
    "    '1' : ['2'],\n",
    "    '2' : ['7', '4'],\n",
    "    '3' : ['4'],\n",
    "    '4' : ['6'],\n",
    "    '5' : ['4', '3'],\n",
    "    '6' : [],\n",
    "    '7' : ['5']\n",
    "}\n",
    "# create adjacency matrix\n",
    "import numpy as np\n",
    "size = len(graph.keys())\n",
    "matrix = np.zeros((size,size))\n",
    "# print(matrix)\n",
    "for i in graph:\n",
    "    # print(\"this is\",(i))\n",
    "    # print(graph[i])\n",
    "    for j in graph[i]:\n",
    "        # print(\"this is j\",j)\n",
    "        matrix[int(i)-1,int(j)-1] = 1\n",
    "print(\"converting adjacency list to adjacency matrix\")\n",
    "print(matrix)"
   ]
  },
  {
   "cell_type": "code",
   "execution_count": 2,
   "metadata": {},
   "outputs": [
    {
     "name": "stdout",
     "output_type": "stream",
     "text": [
      "1 -->2 -->4 -->7 -->6 -->5 -->3 -->"
     ]
    }
   ],
   "source": [
    "def Matrix_BFS(matrix, s):\n",
    "    visited = list()\n",
    "    queue   = list()      #list in python is basically queue\n",
    "    visited.append(s) #means make it black\n",
    "    queue.append(s)\n",
    "    \n",
    "    while queue:      #as long as the queue is not empty....\n",
    "        u = queue.pop(0)  #pop the front guy.....basically index 0\n",
    "        # print(\"this is row:\",u-1)\n",
    "        print(u, \"-->\", end = \"\")\n",
    "        # print(matrix[u-1,:])\n",
    "        for i in range(matrix.shape[1]):\n",
    "            if matrix[u-1][i] != 0 and (i+1) not in visited:\n",
    "                # print(\"hi\")\n",
    "                visited.append(i+1)              #add them to the visited\n",
    "                queue.append(i+1) \n",
    "                # print(\"hell\")\n",
    "                \n",
    "Matrix_BFS(matrix,1)"
   ]
  },
  {
   "cell_type": "code",
   "execution_count": 3,
   "metadata": {},
   "outputs": [
    {
     "name": "stdout",
     "output_type": "stream",
     "text": [
      "1 --->2 --->4 --->6 --->7 --->5 --->3 --->"
     ]
    }
   ],
   "source": [
    "visited = set()\n",
    "\n",
    "def Matrix_DFS(matrix, s):\n",
    "    if s not in visited:\n",
    "        print(s, \"--->\", end=\"\")  #our answer\n",
    "        visited.add(s)\n",
    "        for i in range(matrix.shape[1]):\n",
    "            if matrix[s-1][i] != 0:\n",
    "                # print(i)\n",
    "                Matrix_DFS(matrix, i+1)\n",
    "Matrix_DFS(matrix, 1)"
   ]
  },
  {
   "cell_type": "markdown",
   "metadata": {},
   "source": [
    "Case study:\n",
    "1. for BFS, you can use it to see how things are connected around a specified area,like image from a satellite\n",
    "2. for DFS, you can use it to find what things are on the specified path and how they are ordered, like google map"
   ]
  }
 ],
 "metadata": {
  "kernelspec": {
   "display_name": "Python 3.8.3 ('BCIEEG')",
   "language": "python",
   "name": "python3"
  },
  "language_info": {
   "codemirror_mode": {
    "name": "ipython",
    "version": 3
   },
   "file_extension": ".py",
   "mimetype": "text/x-python",
   "name": "python",
   "nbconvert_exporter": "python",
   "pygments_lexer": "ipython3",
   "version": "3.8.3"
  },
  "orig_nbformat": 4,
  "vscode": {
   "interpreter": {
    "hash": "2beced8b65475b830cffeb19ac2da63a79efc2cc1df15bc0d79e8e02d3b67b43"
   }
  }
 },
 "nbformat": 4,
 "nbformat_minor": 2
}
