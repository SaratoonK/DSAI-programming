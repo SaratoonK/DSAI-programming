{
 "cells": [
  {
   "cell_type": "markdown",
   "metadata": {},
   "source": [
    "# Adjacency Matrix from Dijkstra's algorithm example in lecture"
   ]
  },
  {
   "cell_type": "code",
   "execution_count": 5,
   "metadata": {},
   "outputs": [
    {
     "name": "stdout",
     "output_type": "stream",
     "text": [
      "[-1, 2, 0, 1, 2]\n"
     ]
    }
   ],
   "source": [
    "G = [[0, 10, 3, 0, 0],\n",
    "     [0, 0, 1, 2, 0],\n",
    "     [0, 4, 0, 8, 2],\n",
    "     [0, 0, 0, 0, 7],\n",
    "     [0, 0, 0, 9, 0]]\n",
    "\n",
    "INF = 9999\n",
    "N   = 5\n",
    "\n",
    "#r.key = 0\n",
    "r   = 0\n",
    "\n",
    "# put all vertex into the queue\n",
    "# for each vertex\n",
    "# set key = infinity\n",
    "def adj(g,u):\n",
    "    neighbors = []\n",
    "    for i in range(len(g[u])):\n",
    "        if g[u][i] != 0:\n",
    "            neighbors.append((i))\n",
    "    return neighbors\n",
    "# v = adj(G,0)\n",
    "# print(v)\n",
    "# print(list(Q.keys()))\n",
    "def v_in_q(Q,v):\n",
    "    keys = list(Q.keys())\n",
    "    if v in keys:\n",
    "        return True\n",
    "    else:\n",
    "        return False \n",
    "from heapdict import heapdict  #pip install heapdict or conda install heapdict\n",
    "\n",
    "Q = heapdict()\n",
    "for i in range(N):\n",
    "    Q[i] = INF\n",
    "Q[r] = 0\n",
    "\n",
    "# set pi  = NIL\n",
    "# pi = [None, None, None, None, None]\n",
    "pi = [None] * 5\n",
    "# set the pi of r = -1 or anything you like\n",
    "pi[r] = -1\n",
    "# print(f\"PI: {pi}\")\n",
    "\n",
    "# while Q is not empty\n",
    "while(Q):\n",
    "    #u = extract_min  (dict has no extract_min)\n",
    "    # u  = Q.popitem()[0]\n",
    "    u,x  = Q.popitem()\n",
    "    # print(\"this is u\",u)\n",
    "    # print(\"this is x\",x)\n",
    "    for v in adj(G,u):\n",
    "        # print(v)\n",
    "        if v_in_q(Q,v) and G[u][v] + x < Q[v]:\n",
    "            # print(list(Q.items()))\n",
    "            pi[v] = u\n",
    "            Q[v] = G[u][v] + x\n",
    "            # print(list(Q.items()))\n",
    "#v.pi = u\n",
    "#v.key = w(u, v)\n",
    "\n",
    "print(pi)\n"
   ]
  }
 ],
 "metadata": {
  "kernelspec": {
   "display_name": "Python 3.8.3 ('BCIEEG')",
   "language": "python",
   "name": "python3"
  },
  "language_info": {
   "codemirror_mode": {
    "name": "ipython",
    "version": 3
   },
   "file_extension": ".py",
   "mimetype": "text/x-python",
   "name": "python",
   "nbconvert_exporter": "python",
   "pygments_lexer": "ipython3",
   "version": "3.8.3"
  },
  "orig_nbformat": 4,
  "vscode": {
   "interpreter": {
    "hash": "2beced8b65475b830cffeb19ac2da63a79efc2cc1df15bc0d79e8e02d3b67b43"
   }
  }
 },
 "nbformat": 4,
 "nbformat_minor": 2
}
