{
 "cells": [
  {
   "cell_type": "markdown",
   "metadata": {},
   "source": [
    "# Original Code #"
   ]
  },
  {
   "cell_type": "code",
   "execution_count": 1,
   "metadata": {},
   "outputs": [
    {
     "name": "stdout",
     "output_type": "stream",
     "text": [
      "this is u 0\n",
      "this is u 2\n",
      "this is u 1\n",
      "this is u 3\n",
      "this is u 4\n",
      "[-1, 2, 0, 2, 0]\n"
     ]
    }
   ],
   "source": [
    "# use adjacency matrix (undirected)\n",
    "# why undirected?\n",
    "# use example 1\n",
    "#0, 1, 2, 3, 4\n",
    "G = [[0, 2, 2, 5, 3],\n",
    "     [2, 0, 1, 4, 4],\n",
    "     [2, 1, 0, 3, 5],\n",
    "     [5, 4, 3, 0, 9],\n",
    "     [3, 4, 5, 9, 0]]\n",
    "\n",
    "INF = 9999\n",
    "N   = 5\n",
    "\n",
    "#r.key = 0\n",
    "r   = 0\n",
    "\n",
    "# put all vertex into the queue\n",
    "# for each vertex\n",
    "# set key = infinity\n",
    "def adj(g,u):\n",
    "    neighbors = []\n",
    "    for i in range(len(g[u])):\n",
    "        if g[u][i] != 0:\n",
    "            neighbors.append((i))\n",
    "    return neighbors\n",
    "# v = adj(G,0)\n",
    "# print(v)\n",
    "# print(list(Q.keys()))\n",
    "def v_in_q(Q,v):\n",
    "    keys = list(Q.keys())\n",
    "    if v in keys:\n",
    "        return True\n",
    "    else:\n",
    "        return False \n",
    "from heapdict import heapdict  #pip install heapdict or conda install heapdict\n",
    "\n",
    "Q = heapdict()\n",
    "for i in range(N):\n",
    "    Q[i] = INF\n",
    "Q[r] = 0\n",
    "\n",
    "# set pi  = NIL\n",
    "# pi = [None, None, None, None, None]\n",
    "pi = [None] * 5\n",
    "# set the pi of r = -1 or anything you like\n",
    "pi[r] = -1\n",
    "# print(f\"PI: {pi}\")\n",
    "\n",
    "# while Q is not empty\n",
    "while(Q):\n",
    "    #u = extract_min  (dict has no extract_min)\n",
    "    u  = Q.popitem()[0]\n",
    "    print(\"this is u\",u)\n",
    "    for v in adj(G,u):\n",
    "        # print(v)\n",
    "        if v_in_q(Q,v) and G[u][v] < Q[v]:\n",
    "            pi[v] = u\n",
    "            Q[v] = G[u][v]\n",
    "#v.pi = u\n",
    "#v.key = w(u, v)\n",
    "\n",
    "print(pi)\n"
   ]
  },
  {
   "cell_type": "markdown",
   "metadata": {},
   "source": [
    "# Convert to adjacency list # "
   ]
  },
  {
   "cell_type": "code",
   "execution_count": 2,
   "metadata": {},
   "outputs": [
    {
     "name": "stdout",
     "output_type": "stream",
     "text": [
      "The key is node, the value is a list of neighboring node\n",
      "The first value in tuple indicate to which node and the second is its weight\n",
      "{'0': [(1, 2), (2, 2), (3, 5), (4, 3)], '1': [(0, 2), (2, 1), (3, 4), (4, 4)], '2': [(0, 2), (1, 1), (3, 3), (4, 5)], '3': [(0, 5), (1, 4), (2, 3), (4, 9)], '4': [(0, 3), (1, 4), (2, 5), (3, 9)]}\n"
     ]
    }
   ],
   "source": [
    "G = [[0, 2, 2, 5, 3],\n",
    "     [2, 0, 1, 4, 4],\n",
    "     [2, 1, 0, 3, 5],\n",
    "     [5, 4, 3, 0, 9],\n",
    "     [3, 4, 5, 9, 0]]\n",
    "# temp = []\n",
    "link = dict()\n",
    "for i in range(len(G)):\n",
    "    temp = []\n",
    "    for j in range(len(G)):\n",
    "        if i != j:\n",
    "            temp.append(tuple((j,G[i][j])))\n",
    "    link[str(i)] = temp\n",
    "    \n",
    "print(\"The key is node, the value is a list of neighboring node\")\n",
    "print(\"The first value in tuple indicate to which node and the second is its weight\")\n",
    "print(link)"
   ]
  },
  {
   "cell_type": "markdown",
   "metadata": {},
   "source": [
    "# Code using adjacency list #"
   ]
  },
  {
   "cell_type": "code",
   "execution_count": 3,
   "metadata": {},
   "outputs": [
    {
     "name": "stdout",
     "output_type": "stream",
     "text": [
      "this is u 0\n",
      "this is u 2\n",
      "this is u 1\n",
      "this is u 3\n",
      "this is u 4\n",
      "[-1, 2, 0, 2, 0]\n"
     ]
    }
   ],
   "source": [
    "INF = 9999\n",
    "N   = 5\n",
    "\n",
    "#r.key = 0\n",
    "r   = 0\n",
    "\n",
    "# put all vertex into the queue\n",
    "# for each vertex\n",
    "# set key = infinity\n",
    "def adj(link,u):\n",
    "    neighbors = []\n",
    "    for x,y in link.items():\n",
    "        for i in range(len(y)):\n",
    "            neighbors.append(y[i][0])\n",
    "    return neighbors\n",
    "# v = adj(G,0)\n",
    "# print(v)\n",
    "# print(list(Q.keys()))\n",
    "def v_in_q(Q,v):\n",
    "    keys = list(Q.keys())\n",
    "    if v in keys:\n",
    "        return True\n",
    "    else:\n",
    "        return False\n",
    "         \n",
    "def get_v(link,u,v):\n",
    "    for i in link[str(u)]:\n",
    "        if i[0] == v:\n",
    "            return i[1]\n",
    "    \n",
    "\n",
    "from heapdict import heapdict  #pip install heapdict or conda install heapdict\n",
    "\n",
    "Q = heapdict()\n",
    "for i in range(N):\n",
    "    Q[i] = INF\n",
    "Q[r] = 0\n",
    "\n",
    "# set pi  = NIL\n",
    "# pi = [None, None, None, None, None]\n",
    "pi = [None] * 5\n",
    "# set the pi of r = -1 or anything you like\n",
    "pi[r] = -1\n",
    "# print(f\"PI: {pi}\")\n",
    "\n",
    "# while Q is not empty\n",
    "while(Q):\n",
    "    #u = extract_min  (dict has no extract_min)\n",
    "    u  = Q.popitem()[0]\n",
    "    print(\"this is u\",u)\n",
    "    for v in adj(link,u):\n",
    "        # print(v)\n",
    "        x = get_v(link,u,v)\n",
    "        if v_in_q(Q,v) and x < Q[v]:\n",
    "            pi[v] = u\n",
    "            Q[v] = x\n",
    "#v.pi = u\n",
    "#v.key = w(u, v)\n",
    "\n",
    "print(pi)\n"
   ]
  }
 ],
 "metadata": {
  "kernelspec": {
   "display_name": "Python 3.8.3 ('BCIEEG')",
   "language": "python",
   "name": "python3"
  },
  "language_info": {
   "codemirror_mode": {
    "name": "ipython",
    "version": 3
   },
   "file_extension": ".py",
   "mimetype": "text/x-python",
   "name": "python",
   "nbconvert_exporter": "python",
   "pygments_lexer": "ipython3",
   "version": "3.8.3"
  },
  "orig_nbformat": 4,
  "vscode": {
   "interpreter": {
    "hash": "2beced8b65475b830cffeb19ac2da63a79efc2cc1df15bc0d79e8e02d3b67b43"
   }
  }
 },
 "nbformat": 4,
 "nbformat_minor": 2
}
