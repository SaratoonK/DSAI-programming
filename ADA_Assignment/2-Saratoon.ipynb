{
 "cells": [
  {
   "cell_type": "code",
   "execution_count": 1,
   "metadata": {},
   "outputs": [],
   "source": [
    "from random import randint\n",
    "from random import seed"
   ]
  },
  {
   "cell_type": "markdown",
   "metadata": {},
   "source": [
    "Equation: T(n) = 2T(n/2) + cn\n",
    "\n",
    "Let Depth = i and input size = n\n",
    "\n",
    "The relationship between depth and input size is : $$ {\\mathbf{2}^{i}} = n $$ or $$ i = \\log _{2} n $$\n",
    "\n",
    "The cost for each node is: $$ (n/2^i) $$\n",
    "\n",
    "Number of node is :  $$ {\\mathbf{2}^{i}} $$\n",
    "\n",
    "The total cost for each depth is : $$ \\frac{n}{2^i} * 2^i = n $$\n",
    "\n",
    "The cost is equal at every depth so,\n",
    "\n",
    "Case 3: Average = H * W = $$ n * \\log _{2} n $$\n",
    "\n",
    "\n"
   ]
  },
  {
   "cell_type": "code",
   "execution_count": 4,
   "metadata": {},
   "outputs": [],
   "source": [
    "from time import time\n",
    "import math\n",
    "def subarray(a,low,high):\n",
    "    if high == low:\n",
    "        # print(\"hello\")\n",
    "        return (low,high,a[low])\n",
    "    else:\n",
    "        mid = int((low + high)/2)\n",
    "        # print(mid) # low = 0,mid = 2,high = 5\n",
    "        left_low,left_high,left_sum = subarray(a,low,mid) #0,1,2\n",
    "        # print(\"left low\",left_low)\n",
    "        # print(\"left high\",left_high)\n",
    "        # print(\"left sum\",left_sum)\n",
    "        right_low,right_high,right_sum = subarray(a,mid+1,high) #3,4,5\n",
    "        # print(\"right low\",right_low)\n",
    "        # print(\"right high\",right_high)\n",
    "        # print(\"right sum\",right_sum)\n",
    "        cross_low,cross_high,cross_sum = cross(a,low,mid,high)\n",
    "        # print(\"cross low\",cross_low)\n",
    "        # print(\"cross high\",cross_high)\n",
    "        # print(\"cross sum\",cross_sum)\n",
    "        if left_sum >= right_sum and left_sum >= cross_sum:\n",
    "            return (left_low,left_high,left_sum)\n",
    "        elif right_sum >= left_sum and right_sum >= cross_sum:\n",
    "            return (right_low,right_high,right_sum)\n",
    "        else:\n",
    "            return (cross_low,cross_high,cross_sum)\n",
    "def cross(a,low,mid,high):\n",
    "    max_left = 0\n",
    "    max_right = 0\n",
    "    left_sum = -float(\"inf\")\n",
    "    sum = 0\n",
    "    for i in range(mid,low-1,-1):\n",
    "        sum = sum + a[i]\n",
    "        # print(sum)\n",
    "        if sum > left_sum:\n",
    "            left_sum = sum\n",
    "            max_left = i\n",
    "    right_sum = -float(\"inf\")\n",
    "    sum = 0\n",
    "    for j in range(mid+1,high+1):\n",
    "        sum = sum + a[j]\n",
    "        # print(sum)\n",
    "        if sum > right_sum:\n",
    "            right_sum = sum\n",
    "            max_right = j\n",
    "    return (max_left,max_right,left_sum + right_sum)\n",
    "        \n",
    "n = []\n",
    "real_time = []\n",
    "theo_time = []\n",
    "c = 1/500000\n",
    "for i in range(0,1001,100):\n",
    "    a = []\n",
    "    seed(18)\n",
    "    for j in range(i+1):\n",
    "        value = randint(-30,30)\n",
    "        a.append(value)\n",
    "    # print(a)\n",
    "    low = 0\n",
    "    high = len(a) - 1\n",
    "    start = time()\n",
    "    index_left,index_right,value = subarray(a,low,high)\n",
    "    time_taken = time() - start\n",
    "    # print(time_taken)\n",
    "    n.append(len(a))\n",
    "    real_time.append(time_taken)\n",
    "    theo_time.append(c*(len(a))*math.log(len(a),2))\n",
    "# print(f\"left index is: {index_left} which is the number {a[index_left]}\")\n",
    "# print(f\"right index is: {index_right} which is the number {a[index_right]}\")\n",
    "# print(\"the total value is:\",value)\n"
   ]
  },
  {
   "cell_type": "code",
   "execution_count": 5,
   "metadata": {},
   "outputs": [
    {
     "data": {
      "image/png": "[encoded data removed]",
      "text/plain": [
       "<Figure size 432x288 with 1 Axes>"
      ]
     },
     "metadata": {
      "needs_background": "light"
     },
     "output_type": "display_data"
    },
    {
     "name": "stdout",
     "output_type": "stream",
     "text": [
      "real_time [0.0, 0.0, 0.0009970664978027344, 0.001995086669921875, 0.0029535293579101562, 0.002147197723388672, 0.002991199493408203, 0.0019943714141845703, 0.0029959678649902344, 0.004990816116333008, 0.003011465072631836]\n",
      "theoretical_time [0.0, 0.0013449587195158627, 0.003075722779853929, 0.00495663904540934, 0.006935261658016847, 0.008986604126781598, 0.011095927859214845, 0.013253485428882895, 0.015452344808718753, 0.017687320699055997, 0.019954386970189655]\n"
     ]
    }
   ],
   "source": [
    "import matplotlib.pyplot as plt\n",
    "plt.plot(n,real_time, label = \"Real_time\")\n",
    "plt.plot(n,theo_time, label = \"Theoretical time\")\n",
    "plt.xlabel(\"Number of inputs\")\n",
    "plt.ylabel(\"Time taken\")\n",
    "plt.legend()\n",
    "plt.show()\n",
    "print(\"real_time\", real_time)\n",
    "print(\"theoretical_time\", theo_time)"
   ]
  },
  {
   "cell_type": "markdown",
   "metadata": {},
   "source": [
    "Conclusion: by using c = 1/500000 , The theoretical time is always longer than the actual time, it's acting like the upper bound of the actual time"
   ]
  }
 ],
 "metadata": {
  "kernelspec": {
   "display_name": "Python 3.8.3 64-bit ('BCIEEG': venv)",
   "language": "python",
   "name": "python3"
  },
  "language_info": {
   "codemirror_mode": {
    "name": "ipython",
    "version": 3
   },
   "file_extension": ".py",
   "mimetype": "text/x-python",
   "name": "python",
   "nbconvert_exporter": "python",
   "pygments_lexer": "ipython3",
   "version": "3.8.3"
  },
  "orig_nbformat": 4,
  "vscode": {
   "interpreter": {
    "hash": "2beced8b65475b830cffeb19ac2da63a79efc2cc1df15bc0d79e8e02d3b67b43"
   }
  }
 },
 "nbformat": 4,
 "nbformat_minor": 2
}
