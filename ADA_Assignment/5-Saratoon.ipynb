{
 "cells": [
  {
   "cell_type": "code",
   "execution_count": 1,
   "metadata": {},
   "outputs": [],
   "source": [
    "import copy\n",
    "#how do we start here\n",
    "#create a class called Node\n",
    "class Node(object):  #object is the primitive class, so I inherit\n",
    "    pass\n",
    "\n",
    "    #left``\n",
    "    #right\n",
    "    #key\n",
    "    #when you first create the Node, this guy is the root node\n",
    "    def __init__(self, key):\n",
    "        self.left  = None\n",
    "        self.right = None\n",
    "        self.key = key  #this is actually the root node\n",
    "        #why you don't write like this\n",
    "        #self.root = key\n",
    "        # self.parent = None\n",
    "    #def insert\n",
    "    def insert(self, key):\n",
    "        #if we already have a root node,\n",
    "        # print(self.key)\n",
    "        if(self.key):\n",
    "            #then check left and right\n",
    "            #cond1:  if less than: go left\n",
    "            # print(\"this is \",self.key)\n",
    "            if(key < self.key):\n",
    "                #cond1.1  if the left is NIL, yay! fill it!\n",
    "                if(self.left == None):\n",
    "                    # print(\"1.1 this is key\",key)\n",
    "                    self.left = Node(key)\n",
    "                #cond1.2  if the left is NOT NIL...oh no...\n",
    "                else:\n",
    "                    # print(\"1.2 this is key\",key)\n",
    "                    self.left.insert(key)\n",
    "            \n",
    "            #cond2:  if greater than: go right\n",
    "            elif(key >= self.key):\n",
    "                #cond1.2  if the right is NIL, yay! fill it!\n",
    "                if(self.right == None):\n",
    "                    # print(\"2.1 this is key\",key)\n",
    "                    self.right = Node(key)\n",
    "                #cond1.2  if the right is NOT NIL...consider right as the parent...\n",
    "                else:\n",
    "                    # print(\"2.2 this is key\",key)\n",
    "                    self.right.insert(key)\n",
    "            \n",
    "            \n",
    "        #if we don't have the root node\n",
    "        else:\n",
    "            #this key is the root node\n",
    "            self.key = key\n",
    "    \n",
    "    #def printTree\n",
    "    def printT(self):        \n",
    "        #if left is still available print left\n",
    "        # print(\"start key\",self.key)\n",
    "        if (self.left):\n",
    "            # print(\"into left\")\n",
    "            self.left.printT()\n",
    "        print(self.key)\n",
    "        if (self.right):\n",
    "            # print(\"into right\")\n",
    "            self.right.printT()\n",
    "    \n",
    "    #def delete\n",
    "    def delete(self,key,parent = None):\n",
    "        if (key == self.key):\n",
    "            print(\"current key: \",key)\n",
    "            print(\"parent key:\",parent.key)\n",
    "            #case 1 No child\n",
    "            if (self.left == None and self.right == None):\n",
    "                print(\"case 1: No child\")\n",
    "                if (key < parent.key):\n",
    "                    parent.left = None\n",
    "                else:\n",
    "                    parent.right = None\n",
    "                \n",
    "            #case 2 Only right child\n",
    "            elif (self.left == None and self.right != None):\n",
    "                print(\"case 2: Only right child\")\n",
    "                if (key < parent.key):\n",
    "                    parent.left = self.right\n",
    "                else:\n",
    "                    parent.right = self.right\n",
    "                \n",
    "            #case 3 Only left child\n",
    "            elif (self.left != None and self.right == None):\n",
    "                print(\"case 3: Only left child\")\n",
    "                if (key < parent.key):\n",
    "                    parent.left = self.left\n",
    "                else:\n",
    "                    parent.right = self.left\n",
    "                \n",
    "            #case 4 find successor    \n",
    "            elif (self.left != None and self.right != None):\n",
    "                print(\"case 4: Find successor\")\n",
    "                self.key = self.right.successor()\n",
    "                # parent = self\n",
    "                print(\"The minimum is\",self.key)\n",
    "                self.right.delete(self.key,self)\n",
    "                \n",
    "\n",
    "        elif(key < self.key):\n",
    "            if (self.left):\n",
    "                self.left.delete(key,self)\n",
    "        \n",
    "            \n",
    "        \n",
    "        elif(key >= self.key):\n",
    "            if (self.right):\n",
    "                self.right.delete(key,self)\n",
    "          \n",
    "\n",
    "    #def minimum\n",
    "    def minimum(self):\n",
    "        if (self.left):\n",
    "            # print(\"count\")\n",
    "            self.left.minimum()\n",
    "        else:\n",
    "            print(\"this is minimum\",self.key)\n",
    "\n",
    "    def successor(self):\n",
    "        if (self.left):\n",
    "            # print(\"count\")\n",
    "            # print(self.left)\n",
    "            a = self.left.successor()\n",
    "            return a\n",
    "        else:\n",
    "            return self.key\n",
    "            \n",
    "    def maximum(self):\n",
    "        if (self.right):\n",
    "            # print(\"count\")\n",
    "            self.right.maximum()\n",
    "        else:\n",
    "            print(\"this is maximum\",self.key)\n",
    "            \n",
    "    "
   ]
  },
  {
   "cell_type": "code",
   "execution_count": 2,
   "metadata": {},
   "outputs": [
    {
     "name": "stdout",
     "output_type": "stream",
     "text": [
      "the tree members are: \n",
      "-1\n",
      "1\n",
      "2\n",
      "4\n",
      "6\n",
      "7\n",
      "8\n",
      "9\n",
      "10\n"
     ]
    }
   ],
   "source": [
    "print(\"the tree members are: \")\n",
    "root = Node(1)\n",
    "root.insert(4)\n",
    "root.insert(10)\n",
    "root.insert(-1)\n",
    "root.insert(6)\n",
    "root.insert(8)\n",
    "root.insert(2)\n",
    "root.insert(7)\n",
    "root.insert(9)\n",
    "root.printT()\n",
    "# print(\"*\"*50)\n",
    "# root.delete(4)\n",
    "# root.printT()"
   ]
  },
  {
   "cell_type": "markdown",
   "metadata": {},
   "source": [
    "<img src=\"Tree.jpg\"/>"
   ]
  },
  {
   "cell_type": "code",
   "execution_count": 3,
   "metadata": {},
   "outputs": [
    {
     "name": "stdout",
     "output_type": "stream",
     "text": [
      "test case 1: No child\n",
      "current key:  9\n",
      "parent key: 8\n",
      "case 1: No child\n",
      "-1\n",
      "1\n",
      "2\n",
      "4\n",
      "6\n",
      "7\n",
      "8\n",
      "10\n"
     ]
    }
   ],
   "source": [
    "print(\"test case 1: No child\")\n",
    "root.delete(9)\n",
    "root.printT()"
   ]
  },
  {
   "cell_type": "code",
   "execution_count": 4,
   "metadata": {},
   "outputs": [
    {
     "name": "stdout",
     "output_type": "stream",
     "text": [
      "test case 2: Only right child\n",
      "current key:  6\n",
      "parent key: 10\n",
      "case 2: Only right child\n",
      "-1\n",
      "1\n",
      "2\n",
      "4\n",
      "7\n",
      "8\n",
      "10\n"
     ]
    }
   ],
   "source": [
    "print(\"test case 2: Only right child\")\n",
    "root.delete(6)\n",
    "root.printT()"
   ]
  },
  {
   "cell_type": "code",
   "execution_count": 5,
   "metadata": {},
   "outputs": [
    {
     "name": "stdout",
     "output_type": "stream",
     "text": [
      "test case 3: Only left child\n",
      "current key:  10\n",
      "parent key: 4\n",
      "case 3: Only left child\n",
      "-1\n",
      "1\n",
      "2\n",
      "4\n",
      "7\n",
      "8\n"
     ]
    }
   ],
   "source": [
    "print(\"test case 3: Only left child\")\n",
    "root.delete(10)\n",
    "root.printT()"
   ]
  },
  {
   "cell_type": "code",
   "execution_count": 6,
   "metadata": {},
   "outputs": [
    {
     "name": "stdout",
     "output_type": "stream",
     "text": [
      "test case 4: Find successor\n",
      "current key:  4\n",
      "parent key: 1\n",
      "case 4: Find successor\n",
      "The minimum is 7\n",
      "current key:  7\n",
      "parent key: 8\n",
      "case 1: No child\n",
      "-1\n",
      "1\n",
      "2\n",
      "7\n",
      "8\n"
     ]
    }
   ],
   "source": [
    "print(\"test case 4: Find successor\")\n",
    "root.delete(4)\n",
    "root.printT()"
   ]
  }
 ],
 "metadata": {
  "kernelspec": {
   "display_name": "Python 3.8.3 64-bit ('BCIEEG': venv)",
   "language": "python",
   "name": "python3"
  },
  "language_info": {
   "codemirror_mode": {
    "name": "ipython",
    "version": 3
   },
   "file_extension": ".py",
   "mimetype": "text/x-python",
   "name": "python",
   "nbconvert_exporter": "python",
   "pygments_lexer": "ipython3",
   "version": "3.8.3"
  },
  "orig_nbformat": 4,
  "vscode": {
   "interpreter": {
    "hash": "2beced8b65475b830cffeb19ac2da63a79efc2cc1df15bc0d79e8e02d3b67b43"
   }
  }
 },
 "nbformat": 4,
 "nbformat_minor": 2
}
