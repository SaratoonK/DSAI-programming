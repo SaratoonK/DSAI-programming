{
 "cells": [
  {
   "cell_type": "code",
   "execution_count": 43,
   "metadata": {},
   "outputs": [
    {
     "name": "stdout",
     "output_type": "stream",
     "text": [
      "this is freq {'A': 4, 'B': 7, 'E': 5, 'D': 2, 'C': 2}\n",
      "this is freq_sorted [('D', 2), ('C', 2), ('A', 4), ('E', 5), ('B', 7)]\n",
      "this is root <__main__.Node object at 0x0000020F671716A0>\n",
      "{'A': '00', 'D': '010', 'C': '011', 'E': '10', 'B': '11'}\n"
     ]
    }
   ],
   "source": [
    "from collections import Counter\n",
    "\n",
    "#every node object will have two children, otherwise is a leave\n",
    "class Node(object):\n",
    "    def __init__(self, left=None, right=None):\n",
    "        self.left = left\n",
    "        self.right = right\n",
    "    \n",
    "    def getChild(self):\n",
    "        return self.left, self.right\n",
    "\n",
    "def get_code(node, code = ''):\n",
    "    \n",
    "    if type(node) is str:\n",
    "        #stop!!!\n",
    "        return {node : code}\n",
    "    \n",
    "    #get the children\n",
    "    left, right = node.getChild()\n",
    "    \n",
    "    #recursive function\n",
    "    huffman_code = dict()\n",
    "    huffman_code.update(get_code(left, code+'0'))\n",
    "    huffman_code.update(get_code(right, code+'1'))\n",
    "    \n",
    "    return huffman_code\n",
    "\n",
    "\n",
    "def calculateTotalCost():\n",
    "    pass\n",
    "\n",
    "def make_the_tree(freqs_sorted):\n",
    "    \n",
    "    #as long as freqs_sorted.length > 1\n",
    "    while len(freqs_sorted) > 1:\n",
    "        \n",
    "        #combine the two smallest one\n",
    "        key1, value1 =  freqs_sorted[0]\n",
    "        key2, value2 =  freqs_sorted[1]\n",
    "        \n",
    "        #delete them\n",
    "        freqs_sorted = freqs_sorted[2:]\n",
    "        \n",
    "        #add the new combination to freqs_sorted\n",
    "        new_value = value1 + value2\n",
    "        new_node  = Node(key1, key2)\n",
    "        \n",
    "        #add to freqs_sorted\n",
    "        freqs_sorted.append((new_node, new_value))\n",
    "                \n",
    "        #sort again!!\n",
    "        freqs_sorted = sorted(freqs_sorted, key=lambda item: item[1])\n",
    "        \n",
    "    return freqs_sorted[0][0]\n",
    "    #return root node (so we can use this generating coding....)\n",
    "\n",
    "#input\n",
    "message = 'AAABBBBBBEEEDABEEDCC'\n",
    "\n",
    "#count the letters\n",
    "#use Counter, then convert to dictionary\n",
    "freqs = dict(Counter(message)) #{'A': 4, 'B': 7, 'E': 5, 'D': 2, 'C': 2}\n",
    "print(\"this is freq\",freqs)  #4\n",
    "\n",
    "#sort them from smallest to biggest\n",
    "#{'C': 2, 'D': 2, 'A': 4, 'E': 5, 'A': 7}\n",
    "freqs_sorted = sorted(freqs.items(), key=lambda item: item[1])\n",
    "print(\"this is freq_sorted\",freqs_sorted)\n",
    "#make the tree by combining the smallest one, and delete those guys\n",
    "root = make_the_tree(freqs_sorted)\n",
    "print(\"this is root\",root)\n",
    "#get the code\n",
    "huffman_code = get_code(root)\n",
    "\n",
    "#print the code\n",
    "print(huffman_code)\n",
    "#{'A': '01'; 'B': '11'; 'C': '000'; 'D': '001'; 'E': '10'}\n",
    "\n",
    "#task1: decode the encoded message to the original message\n",
    "# original_message = decode(huffman_code)\n",
    "\n",
    "#task2: calculate the total cost --> message + table\n",
    "# print(calculateTotalCost())"
   ]
  },
  {
   "cell_type": "markdown",
   "metadata": {},
   "source": [
    "# Task 1:"
   ]
  },
  {
   "cell_type": "code",
   "execution_count": 44,
   "metadata": {},
   "outputs": [
    {
     "name": "stdout",
     "output_type": "stream",
     "text": [
      "AAABBBBBBEEEDABEEDCC\n",
      "00000011111111111110101001000111010010011011\n"
     ]
    }
   ],
   "source": [
    "#encoded the message first\n",
    "encoded = \"\"\n",
    "for i in message:\n",
    "    if i in huffman_code:\n",
    "        encoded = encoded + huffman_code[i]\n",
    "print(message)\n",
    "print(encoded)"
   ]
  },
  {
   "cell_type": "code",
   "execution_count": 45,
   "metadata": {},
   "outputs": [],
   "source": [
    "def decode(encoded):\n",
    "    reverse_huffman_code = {}\n",
    "    for i,j in huffman_code.items():\n",
    "        reverse_huffman_code[j] = i\n",
    "    a = \"\"\n",
    "    orig_message = \"\"\n",
    "    for i in encoded:\n",
    "        a = a + i\n",
    "        if a not in reverse_huffman_code:\n",
    "            continue\n",
    "        else:\n",
    "            b = reverse_huffman_code[a]\n",
    "            orig_message = orig_message + b\n",
    "            a = \"\"\n",
    "    return orig_message"
   ]
  },
  {
   "cell_type": "code",
   "execution_count": 46,
   "metadata": {},
   "outputs": [
    {
     "name": "stdout",
     "output_type": "stream",
     "text": [
      "AAABBBBBBEEEDABEEDCC\n"
     ]
    }
   ],
   "source": [
    "original_message = decode(encoded)\n",
    "print(original_message)"
   ]
  },
  {
   "cell_type": "markdown",
   "metadata": {},
   "source": [
    "# Task2:"
   ]
  },
  {
   "cell_type": "code",
   "execution_count": 47,
   "metadata": {},
   "outputs": [],
   "source": [
    "def calculateTotalCost(freqs,huffman_code):\n",
    "    message_bits = 0\n",
    "    table_bits = 0\n",
    "    for i in freqs:\n",
    "        message_bits = message_bits + (len(huffman_code[i]) * freqs[i])\n",
    "        table_bits = table_bits + (len(huffman_code[i]) + 8)\n",
    "    return message_bits+table_bits"
   ]
  },
  {
   "cell_type": "code",
   "execution_count": 48,
   "metadata": {},
   "outputs": [
    {
     "name": "stdout",
     "output_type": "stream",
     "text": [
      "96\n"
     ]
    }
   ],
   "source": [
    "print(calculateTotalCost(freqs,huffman_code))"
   ]
  }
 ],
 "metadata": {
  "kernelspec": {
   "display_name": "Python 3.8.3 ('BCIEEG')",
   "language": "python",
   "name": "python3"
  },
  "language_info": {
   "codemirror_mode": {
    "name": "ipython",
    "version": 3
   },
   "file_extension": ".py",
   "mimetype": "text/x-python",
   "name": "python",
   "nbconvert_exporter": "python",
   "pygments_lexer": "ipython3",
   "version": "3.8.3"
  },
  "orig_nbformat": 4,
  "vscode": {
   "interpreter": {
    "hash": "2beced8b65475b830cffeb19ac2da63a79efc2cc1df15bc0d79e8e02d3b67b43"
   }
  }
 },
 "nbformat": 4,
 "nbformat_minor": 2
}
