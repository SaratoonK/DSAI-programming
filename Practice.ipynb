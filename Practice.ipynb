{
 "cells": [
  {
   "cell_type": "code",
   "execution_count": 1,
   "id": "cf5c36c5",
   "metadata": {},
   "outputs": [
    {
     "name": "stdout",
     "output_type": "stream",
     "text": [
      "Python \n"
     ]
    }
   ],
   "source": [
    "string = \"Python is cool\"\n",
    "print(string[0:7])"
   ]
  },
  {
   "cell_type": "code",
   "execution_count": 5,
   "id": "eb517a33",
   "metadata": {},
   "outputs": [
    {
     "name": "stdout",
     "output_type": "stream",
     "text": [
      "cool\n"
     ]
    }
   ],
   "source": [
    "print(string[-4:])"
   ]
  },
  {
   "cell_type": "code",
   "execution_count": 7,
   "id": "9beddb40",
   "metadata": {},
   "outputs": [
    {
     "name": "stdout",
     "output_type": "stream",
     "text": [
      "is \n"
     ]
    }
   ],
   "source": [
    "print(string[7:10])"
   ]
  },
  {
   "cell_type": "code",
   "execution_count": 29,
   "id": "99b1ebb5",
   "metadata": {},
   "outputs": [
    {
     "name": "stdout",
     "output_type": "stream",
     "text": [
      "chaklaM\n"
     ]
    }
   ],
   "source": [
    "string1 = \"Malkahc\"\n",
    "i = 6\n",
    "print(string1[::-1])"
   ]
  },
  {
   "cell_type": "code",
   "execution_count": 28,
   "id": "f3a0ed62",
   "metadata": {},
   "outputs": [
    {
     "name": "stdout",
     "output_type": "stream",
     "text": [
      "male\n"
     ]
    }
   ],
   "source": [
    "a = (\"John\", \"male\" ,175)\n",
    "age,gender,height = a\n",
    "print(a[1])"
   ]
  },
  {
   "cell_type": "code",
   "execution_count": 30,
   "id": "acf33e72",
   "metadata": {},
   "outputs": [
    {
     "name": "stdout",
     "output_type": "stream",
     "text": [
      "age : 18\n",
      "name : Toon\n",
      "gender : male\n",
      "ID : 1\n"
     ]
    }
   ],
   "source": [
    "student = {'age':18,'name':'Toon','gender':'male', 'ID':1}\n",
    "for key,val in student.items():\n",
    "    print(key,\":\",val)"
   ]
  },
  {
   "cell_type": "code",
   "execution_count": 39,
   "id": "e070240c",
   "metadata": {},
   "outputs": [
    {
     "name": "stdout",
     "output_type": "stream",
     "text": [
      "*\n",
      "**\n",
      "***\n",
      "****\n",
      "*****\n"
     ]
    }
   ],
   "source": [
    "height = 5\n",
    "for i in range(1,height + 1):\n",
    "    print(i*\"*\")"
   ]
  },
  {
   "cell_type": "code",
   "execution_count": 40,
   "id": "bf4953c3",
   "metadata": {},
   "outputs": [
    {
     "name": "stdout",
     "output_type": "stream",
     "text": [
      "*****\n",
      "****\n",
      "***\n",
      "**\n",
      "*\n"
     ]
    }
   ],
   "source": [
    "height = 5\n",
    "for i in range(height,0,-1):\n",
    "    print(i*'*')"
   ]
  },
  {
   "cell_type": "code",
   "execution_count": null,
   "id": "f54847d7",
   "metadata": {},
   "outputs": [],
   "source": []
  }
 ],
 "metadata": {
  "kernelspec": {
   "display_name": "pythonDSAI",
   "language": "python",
   "name": "pythondsai"
  },
  "language_info": {
   "codemirror_mode": {
    "name": "ipython",
    "version": 3
   },
   "file_extension": ".py",
   "mimetype": "text/x-python",
   "name": "python",
   "nbconvert_exporter": "python",
   "pygments_lexer": "ipython3",
   "version": "3.8.3"
  }
 },
 "nbformat": 4,
 "nbformat_minor": 5
}
